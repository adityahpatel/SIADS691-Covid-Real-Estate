{
 "metadata": {
  "language_info": {
   "codemirror_mode": {
    "name": "ipython",
    "version": 3
   },
   "file_extension": ".py",
   "mimetype": "text/x-python",
   "name": "python",
   "nbconvert_exporter": "python",
   "pygments_lexer": "ipython3",
   "version": "3.9.1"
  },
  "orig_nbformat": 2,
  "kernelspec": {
   "name": "python391jvsc74a57bd09948915d2ef816288c201d1ce3341a9895370030647a6a1d50d3811e8c6b9c6b",
   "display_name": "Python 3.9.1 64-bit ('my_conda': conda)"
  }
 },
 "nbformat": 4,
 "nbformat_minor": 2,
 "cells": [
  {
   "cell_type": "code",
   "execution_count": 1,
   "metadata": {},
   "outputs": [],
   "source": [
    "import requests\n",
    "import json\n",
    "import pandas as pd"
   ]
  },
  {
   "source": [
    "# Need to Recapture San Francisco Data\n",
    "## CO06075 = SF"
   ],
   "cell_type": "markdown",
   "metadata": {}
  },
  {
   "cell_type": "code",
   "execution_count": 2,
   "metadata": {},
   "outputs": [],
   "source": [
    "# New_APIS\n",
    "attom_keys = ['1aca7ca361664d5b70c603ebd9daa6c7','57fb3873cfd2b0e57cd38d92450c81d1','123b348cfa3af52b50aac55d5fc2a853','81e1f74972e2f35a610c43b670d54de','97a972418c6f6329d2ec3d5fe4e4c31c']"
   ]
  },
  {
   "cell_type": "code",
   "execution_count": 3,
   "metadata": {},
   "outputs": [],
   "source": [
    "# For each county, we'll make 1 API call and generated 1 text file containing sales data  \n",
    "# county_geoids is the LIST of all 74 counties in California\n",
    "\n",
    "# following function pulls all sales data between 200k and 5 million dollars from start of covid\n",
    "# function takes as input the geoID of the county \n",
    "# function outputs a generated text file containing JSON of all SALES transactions between $0.2M and $5M in that county\n",
    "# function has defaults of from date of 1st Jan 2019 upto 1st Apr 2021. These can be changed as desired.\n",
    "# i've set pagesize to 50,000 records for each county.\n",
    "\n",
    "def salesdata_scraper_bycounty_v2(county_geoid,from_date ='2019-01-01', to_date ='2021-04-01'): \n",
    "    baseurl = 'https://api.gateway.attomdata.com/propertyapi/v1.0.0/sale/snapshot'\n",
    "    queryparams = {'geoid':county_geoid, \n",
    "               'minsaleamt': 200000,\n",
    "               'maxsaleamt': 50000000, \n",
    "              'startsalesearchdate':from_date,\n",
    "               'endsalesearchdate': to_date,\n",
    "                'pagesize' :50000}        \n",
    "    headers = {'apikey': '97a972418c6f6329d2ec3d5fe4e4c31c', 'accept': 'application/JSON'}\n",
    "    response = requests.get(baseurl, params = queryparams,headers=headers)\n",
    "    pydata = response.json()         # converting response object to python list of dictionaries\n",
    "    number_of_records = pydata['status']['total']\n",
    "    if number_of_records > 0:   # this condition is to avoid writing empty files in case of zero transactions in a county\n",
    "        if number_of_records == 10000:\n",
    "            print('{} county has over 10000 records. Truncated.Run query separately by month instead of year'.format(county_geoid))\n",
    "        else:    # no files will be created right now for counti 10,000 records\n",
    "            print(f\"Number of records is {number_of_records}\")     \n",
    "            pydata = pydata['property']   # this is to reach inner nested part where our results lie\n",
    "            with open(county_geoid+'_'+from_date+'-'+to_date, 'w') as outfile:   # The name of each file will be CO06001, CO06003, etc.74 files created            \n",
    "                json.dump(pydata, outfile) "
   ]
  },
  {
   "cell_type": "code",
   "execution_count": 5,
   "metadata": {},
   "outputs": [],
   "source": [
    "time_tuples = [('2019-01-01','2019-03-01'),('2019-03-02','2019-06-01'),('2019-06-02','2019-10-02'),('2019-10-02','2020-02-02'),('2020-02-03','2020-06-03'),('2020-06-04','2020-10-04'),('2020-10-05','2021-02-05'),('2021-02-06','2021-04-01')]"
   ]
  },
  {
   "cell_type": "code",
   "execution_count": 7,
   "metadata": {},
   "outputs": [
    {
     "output_type": "stream",
     "name": "stdout",
     "text": [
      "Trying CO06075 from 2019-01-01 to 2019-03-01\n",
      "Number of records is 608\n",
      "Trying CO06075 from 2019-03-02 to 2019-06-01\n",
      "Number of records is 1311\n",
      "Trying CO06075 from 2019-06-02 to 2019-10-02\n",
      "Number of records is 1877\n",
      "Trying CO06075 from 2019-10-02 to 2020-02-02\n",
      "Number of records is 1870\n",
      "Trying CO06075 from 2020-02-03 to 2020-06-03\n",
      "Number of records is 1493\n",
      "Trying CO06075 from 2020-06-04 to 2020-10-04\n",
      "Number of records is 2088\n",
      "Trying CO06075 from 2020-10-05 to 2021-02-05\n",
      "Number of records is 2537\n",
      "Trying CO06075 from 2021-02-06 to 2021-04-01\n",
      "Number of records is 783\n",
      "done\n"
     ]
    }
   ],
   "source": [
    "for time in time_tuples:\n",
    "    start, stop = time\n",
    "    print(f\"Trying {'CO06075'} from {start} to {stop}\")\n",
    "    salesdata_scraper_bycounty_v2(county_geoid = 'CO06075',from_date =start, to_date =stop)\n",
    "print('done')"
   ]
  },
  {
   "cell_type": "code",
   "execution_count": null,
   "metadata": {},
   "outputs": [],
   "source": []
  }
 ]
}