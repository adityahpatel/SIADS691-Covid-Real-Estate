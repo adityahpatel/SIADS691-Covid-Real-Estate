{
 "cells": [
  {
   "cell_type": "markdown",
   "metadata": {},
   "source": [
    "##  PURPOSE OF THIS NOTEBOOK IS TO CHECK IF ATTOM DATA SOLUTIONS API QUERY WORKS AND DEBUG AS NECESSARY"
   ]
  },
  {
   "cell_type": "code",
   "execution_count": 1,
   "metadata": {},
   "outputs": [],
   "source": [
    "import requests\n",
    "import json"
   ]
  },
  {
   "cell_type": "markdown",
   "metadata": {},
   "source": [
    "## Attempted to fetch some data from ATTOM. See if query works\n",
    "\n",
    "https://api.developer.attomdata.com/docs#!/Sales32Trend32by32Quarter/getSalesTrendByQuarter"
   ]
  },
  {
   "cell_type": "code",
   "execution_count": 6,
   "metadata": {},
   "outputs": [],
   "source": [
    "baseurl = 'https://api.gateway.attomdata.com/propertyapi/v1.0.0/property/address'\n",
    "queryparams = {'postalcode':94536,\n",
    "         'propertytype': 'TOWNHOUSE/ROWHOUSE', \n",
    "         'pagesize': 200}\n",
    "headers = {'apikey': '522739f66b76ac63523c45dab14c3aa9', 'accept': 'application/JSON'}"
   ]
  },
  {
   "cell_type": "code",
   "execution_count": 7,
   "metadata": {},
   "outputs": [
    {
     "data": {
      "text/plain": [
       "'https://api.gateway.attomdata.com/propertyapi/v1.0.0/property/address?postalcode=94536&propertytype=TOWNHOUSE%2FROWHOUSE&pagesize=200'"
      ]
     },
     "execution_count": 7,
     "metadata": {},
     "output_type": "execute_result"
    }
   ],
   "source": [
    "response = requests.get(baseurl, params = queryparams,headers=headers)\n",
    "response.url\n"
   ]
  },
  {
   "cell_type": "code",
   "execution_count": 8,
   "metadata": {},
   "outputs": [],
   "source": [
    "pydata = response.json()    # pydata is a python list/dictionary NOT JSON\n",
    "pydata = pydata['property']\n"
   ]
  },
  {
   "cell_type": "code",
   "execution_count": 15,
   "metadata": {},
   "outputs": [],
   "source": [
    "# UNCOMMENT TO SEE\n",
    "#print(json.dumps(pydata, indent = 3))"
   ]
  },
  {
   "cell_type": "code",
   "execution_count": 10,
   "metadata": {},
   "outputs": [],
   "source": [
    "with open('exported.txt', 'w') as outfile:\n",
    "    json.dump(pydata, outfile)"
   ]
  },
  {
   "cell_type": "code",
   "execution_count": 11,
   "metadata": {},
   "outputs": [],
   "source": [
    "import pandas as pd\n",
    "with open('exported.txt') as project_file:    \n",
    "    data = json.load(project_file)  \n",
    "\n",
    "df = pd.json_normalize(data)\n"
   ]
  },
  {
   "cell_type": "code",
   "execution_count": 13,
   "metadata": {},
   "outputs": [
    {
     "data": {
      "text/plain": [
       "(200, 22)"
      ]
     },
     "execution_count": 13,
     "metadata": {},
     "output_type": "execute_result"
    }
   ],
   "source": [
    "df.shape"
   ]
  },
  {
   "cell_type": "code",
   "execution_count": 12,
   "metadata": {},
   "outputs": [
    {
     "data": {
      "text/html": [
       "<div>\n",
       "<style scoped>\n",
       "    .dataframe tbody tr th:only-of-type {\n",
       "        vertical-align: middle;\n",
       "    }\n",
       "\n",
       "    .dataframe tbody tr th {\n",
       "        vertical-align: top;\n",
       "    }\n",
       "\n",
       "    .dataframe thead th {\n",
       "        text-align: right;\n",
       "    }\n",
       "</style>\n",
       "<table border=\"1\" class=\"dataframe\">\n",
       "  <thead>\n",
       "    <tr style=\"text-align: right;\">\n",
       "      <th></th>\n",
       "      <th>identifier.Id</th>\n",
       "      <th>identifier.fips</th>\n",
       "      <th>identifier.apn</th>\n",
       "      <th>identifier.apnOrig</th>\n",
       "      <th>identifier.attomId</th>\n",
       "      <th>address.country</th>\n",
       "      <th>address.countrySubd</th>\n",
       "      <th>address.line1</th>\n",
       "      <th>address.line2</th>\n",
       "      <th>address.locality</th>\n",
       "      <th>...</th>\n",
       "      <th>address.postal1</th>\n",
       "      <th>address.postal2</th>\n",
       "      <th>address.postal3</th>\n",
       "      <th>location.accuracy</th>\n",
       "      <th>location.latitude</th>\n",
       "      <th>location.longitude</th>\n",
       "      <th>location.distance</th>\n",
       "      <th>location.geoid</th>\n",
       "      <th>vintage.lastModified</th>\n",
       "      <th>vintage.pubDate</th>\n",
       "    </tr>\n",
       "  </thead>\n",
       "  <tbody>\n",
       "    <tr>\n",
       "      <th>0</th>\n",
       "      <td>10605723</td>\n",
       "      <td>06001</td>\n",
       "      <td>543 039407300</td>\n",
       "      <td>543039407300</td>\n",
       "      <td>10605723</td>\n",
       "      <td>US</td>\n",
       "      <td>CA</td>\n",
       "      <td>4016 LANA TER</td>\n",
       "      <td>FREMONT, CA 94536</td>\n",
       "      <td>FREMONT</td>\n",
       "      <td>...</td>\n",
       "      <td>94536</td>\n",
       "      <td>4616</td>\n",
       "      <td>C021</td>\n",
       "      <td>Rooftop</td>\n",
       "      <td>37.566132</td>\n",
       "      <td>-122.023535</td>\n",
       "      <td>0.0</td>\n",
       "      <td>CO06001, DB0614400, ND0000000920, PL0626000, R...</td>\n",
       "      <td>2021-4-6</td>\n",
       "      <td>2021-4-6</td>\n",
       "    </tr>\n",
       "    <tr>\n",
       "      <th>1</th>\n",
       "      <td>26856913</td>\n",
       "      <td>06001</td>\n",
       "      <td>543 039904300</td>\n",
       "      <td>543039904300</td>\n",
       "      <td>26856913</td>\n",
       "      <td>US</td>\n",
       "      <td>CA</td>\n",
       "      <td>35896 CADIZ DR</td>\n",
       "      <td>FREMONT, CA 94536</td>\n",
       "      <td>FREMONT</td>\n",
       "      <td>...</td>\n",
       "      <td>94536</td>\n",
       "      <td>4605</td>\n",
       "      <td>C021</td>\n",
       "      <td>Rooftop</td>\n",
       "      <td>37.564995</td>\n",
       "      <td>-122.023836</td>\n",
       "      <td>0.0</td>\n",
       "      <td>CO06001, CS0691070, DB0614400, ND0000000920, S...</td>\n",
       "      <td>2021-4-6</td>\n",
       "      <td>2021-4-6</td>\n",
       "    </tr>\n",
       "    <tr>\n",
       "      <th>2</th>\n",
       "      <td>28245260</td>\n",
       "      <td>06001</td>\n",
       "      <td>507 082504500</td>\n",
       "      <td>507082504500</td>\n",
       "      <td>28245260</td>\n",
       "      <td>US</td>\n",
       "      <td>CA</td>\n",
       "      <td>406 NILES CMN</td>\n",
       "      <td>FREMONT, CA 94536</td>\n",
       "      <td>FREMONT</td>\n",
       "      <td>...</td>\n",
       "      <td>94536</td>\n",
       "      <td>2686</td>\n",
       "      <td>C053</td>\n",
       "      <td>Rooftop</td>\n",
       "      <td>37.580202</td>\n",
       "      <td>-121.994652</td>\n",
       "      <td>0.0</td>\n",
       "      <td>CO06001, DB0614400, ND0000000935, PL0626000, R...</td>\n",
       "      <td>2021-4-6</td>\n",
       "      <td>2021-4-6</td>\n",
       "    </tr>\n",
       "    <tr>\n",
       "      <th>3</th>\n",
       "      <td>40155993</td>\n",
       "      <td>06001</td>\n",
       "      <td>507 006709500</td>\n",
       "      <td>507006709500</td>\n",
       "      <td>40155993</td>\n",
       "      <td>US</td>\n",
       "      <td>CA</td>\n",
       "      <td>280 LINDERO TER</td>\n",
       "      <td>FREMONT, CA 94536</td>\n",
       "      <td>FREMONT</td>\n",
       "      <td>...</td>\n",
       "      <td>94536</td>\n",
       "      <td>2706</td>\n",
       "      <td>C076</td>\n",
       "      <td>Rooftop</td>\n",
       "      <td>37.577961</td>\n",
       "      <td>-121.991729</td>\n",
       "      <td>0.0</td>\n",
       "      <td>CO06001, CS0691070, DB0614400, ND0000000935, P...</td>\n",
       "      <td>2021-4-6</td>\n",
       "      <td>2021-4-6</td>\n",
       "    </tr>\n",
       "    <tr>\n",
       "      <th>4</th>\n",
       "      <td>51877350</td>\n",
       "      <td>06001</td>\n",
       "      <td>501 008010500</td>\n",
       "      <td>501008010500</td>\n",
       "      <td>51877350</td>\n",
       "      <td>US</td>\n",
       "      <td>CA</td>\n",
       "      <td>4502 GUISO CMN</td>\n",
       "      <td>FREMONT, CA 94536</td>\n",
       "      <td>FREMONT</td>\n",
       "      <td>...</td>\n",
       "      <td>94536</td>\n",
       "      <td>5628</td>\n",
       "      <td>C065</td>\n",
       "      <td>Rooftop</td>\n",
       "      <td>37.556294</td>\n",
       "      <td>-122.019050</td>\n",
       "      <td>0.0</td>\n",
       "      <td>CO06001, CS0691070, DB0614400, ND0000000920, R...</td>\n",
       "      <td>2021-4-6</td>\n",
       "      <td>2021-4-6</td>\n",
       "    </tr>\n",
       "  </tbody>\n",
       "</table>\n",
       "<p>5 rows × 22 columns</p>\n",
       "</div>"
      ],
      "text/plain": [
       "   identifier.Id identifier.fips identifier.apn identifier.apnOrig  \\\n",
       "0       10605723           06001  543 039407300       543039407300   \n",
       "1       26856913           06001  543 039904300       543039904300   \n",
       "2       28245260           06001  507 082504500       507082504500   \n",
       "3       40155993           06001  507 006709500       507006709500   \n",
       "4       51877350           06001  501 008010500       501008010500   \n",
       "\n",
       "   identifier.attomId address.country address.countrySubd    address.line1  \\\n",
       "0            10605723              US                  CA    4016 LANA TER   \n",
       "1            26856913              US                  CA   35896 CADIZ DR   \n",
       "2            28245260              US                  CA    406 NILES CMN   \n",
       "3            40155993              US                  CA  280 LINDERO TER   \n",
       "4            51877350              US                  CA   4502 GUISO CMN   \n",
       "\n",
       "       address.line2 address.locality  ... address.postal1 address.postal2  \\\n",
       "0  FREMONT, CA 94536          FREMONT  ...           94536            4616   \n",
       "1  FREMONT, CA 94536          FREMONT  ...           94536            4605   \n",
       "2  FREMONT, CA 94536          FREMONT  ...           94536            2686   \n",
       "3  FREMONT, CA 94536          FREMONT  ...           94536            2706   \n",
       "4  FREMONT, CA 94536          FREMONT  ...           94536            5628   \n",
       "\n",
       "  address.postal3 location.accuracy location.latitude location.longitude  \\\n",
       "0            C021           Rooftop         37.566132        -122.023535   \n",
       "1            C021           Rooftop         37.564995        -122.023836   \n",
       "2            C053           Rooftop         37.580202        -121.994652   \n",
       "3            C076           Rooftop         37.577961        -121.991729   \n",
       "4            C065           Rooftop         37.556294        -122.019050   \n",
       "\n",
       "  location.distance                                     location.geoid  \\\n",
       "0               0.0  CO06001, DB0614400, ND0000000920, PL0626000, R...   \n",
       "1               0.0  CO06001, CS0691070, DB0614400, ND0000000920, S...   \n",
       "2               0.0  CO06001, DB0614400, ND0000000935, PL0626000, R...   \n",
       "3               0.0  CO06001, CS0691070, DB0614400, ND0000000935, P...   \n",
       "4               0.0  CO06001, CS0691070, DB0614400, ND0000000920, R...   \n",
       "\n",
       "   vintage.lastModified vintage.pubDate  \n",
       "0              2021-4-6        2021-4-6  \n",
       "1              2021-4-6        2021-4-6  \n",
       "2              2021-4-6        2021-4-6  \n",
       "3              2021-4-6        2021-4-6  \n",
       "4              2021-4-6        2021-4-6  \n",
       "\n",
       "[5 rows x 22 columns]"
      ]
     },
     "execution_count": 12,
     "metadata": {},
     "output_type": "execute_result"
    }
   ],
   "source": [
    "df.head()"
   ]
  },
  {
   "cell_type": "markdown",
   "metadata": {},
   "source": [
    "## conclusion: learnt to fetch data \n",
    "## convert responseobject ---> python list of dictionary of lists ---> write to file---> convert to pandas"
   ]
  },
  {
   "cell_type": "code",
   "execution_count": null,
   "metadata": {},
   "outputs": [],
   "source": []
  }
 ],
 "metadata": {
  "kernelspec": {
   "display_name": "Python 3",
   "language": "python",
   "name": "python3"
  },
  "language_info": {
   "codemirror_mode": {
    "name": "ipython",
    "version": 3
   },
   "file_extension": ".py",
   "mimetype": "text/x-python",
   "name": "python",
   "nbconvert_exporter": "python",
   "pygments_lexer": "ipython3",
   "version": "3.8.5"
  }
 },
 "nbformat": 4,
 "nbformat_minor": 4
}
