{
 "metadata": {
  "language_info": {
   "codemirror_mode": {
    "name": "ipython",
    "version": 3
   },
   "file_extension": ".py",
   "mimetype": "text/x-python",
   "name": "python",
   "nbconvert_exporter": "python",
   "pygments_lexer": "ipython3",
   "version": "3.9.1"
  },
  "orig_nbformat": 2,
  "kernelspec": {
   "name": "python391jvsc74a57bd09948915d2ef816288c201d1ce3341a9895370030647a6a1d50d3811e8c6b9c6b",
   "display_name": "Python 3.9.1 64-bit ('my_conda': conda)"
  }
 },
 "nbformat": 4,
 "nbformat_minor": 2,
 "cells": [
  {
   "source": [
    "# Data Manipulation"
   ],
   "cell_type": "markdown",
   "metadata": {}
  },
  {
   "cell_type": "code",
   "execution_count": null,
   "metadata": {},
   "outputs": [],
   "source": [
    "# Load Modin for faster pandas if needed\n",
    "# https://towardsdatascience.com/get-faster-pandas-with-modin-even-on-your-laptops-b527a2eeda74\n",
    "# !pip install modin"
   ]
  },
  {
   "cell_type": "code",
   "execution_count": 1,
   "metadata": {},
   "outputs": [],
   "source": [
    "import numpy as np\n",
    "# import modin.pandas as pd # This is for when we have all the files\n",
    "import pandas as pd  # if modin is not needed\n",
    "import pickle\n",
    "import os"
   ]
  },
  {
   "cell_type": "code",
   "execution_count": 3,
   "metadata": {},
   "outputs": [
    {
     "output_type": "stream",
     "name": "stdout",
     "text": [
      "/Users/Chris/Documents/GitHub/SIADS691-Covid-Real-Estate\n"
     ]
    }
   ],
   "source": [
    "# folder navigation\n",
    "os.chdir(\"..\") # Move up directory\n",
    "print(os.path.abspath(os.curdir))"
   ]
  },
  {
   "source": [
    "# Import Data"
   ],
   "cell_type": "markdown",
   "metadata": {}
  },
  {
   "source": [
    "## New York"
   ],
   "cell_type": "markdown",
   "metadata": {}
  },
  {
   "cell_type": "code",
   "execution_count": 217,
   "metadata": {},
   "outputs": [
    {
     "output_type": "stream",
     "name": "stdout",
     "text": [
      "done\n"
     ]
    }
   ],
   "source": [
    "# Read in New York Dictionary of dataframes\n",
    "ny_dict_df = pd.read_pickle(\"datasets/NY_data/final_data_frame/NY_dict_df_col_cleaned_v2.pkl\")\n",
    "print('done')"
   ]
  },
  {
   "source": [
    "## Income"
   ],
   "cell_type": "markdown",
   "metadata": {}
  },
  {
   "cell_type": "code",
   "execution_count": 60,
   "metadata": {},
   "outputs": [],
   "source": [
    "# Federal income data reported 2019\n",
    "income_data = pd.read_excel(\"datasets/income/est19-all_income.xls\", header=3)[['Postal Code', 'Name','Median Household Income']]"
   ]
  },
  {
   "cell_type": "code",
   "execution_count": 77,
   "metadata": {},
   "outputs": [],
   "source": [
    "# Select relevant income data\n",
    "income_data_CA_NY = income_data[(income_data['Postal Code'].isin(['CA','NY'])) & income_data['Name'].str.contains('County')]\n",
    "\n",
    "# Select relevant columns\n",
    "median_income_df = income_data_CA_NY[['Postal Code', 'Name','Median Household Income']]\n",
    "median_income_df.rename(columns={'Name':'County','Postal Code':'State ABV'}, inplace=True)\n",
    "\n",
    "# Isolate each state's Area Median Income (AMI).\n",
    "ny_median_income_df = median_income_df[median_income_df['State ABV'] == 'NY']\n",
    "ca_median_income_df = median_income_df[median_income_df['State ABV'] == 'CA']"
   ]
  },
  {
   "source": [
    "## Population"
   ],
   "cell_type": "markdown",
   "metadata": {}
  },
  {
   "cell_type": "code",
   "execution_count": 66,
   "metadata": {},
   "outputs": [],
   "source": [
    "# Need to import population for Covid factorization \n",
    "# (Daily infection / Population) -> DEFAULT TO NYT\n",
    "# (Daily death / Population) -> DEFAULT TO NYT\n",
    "\n",
    "# Density for filtering on the \"urban factor\" & causal county comparison \n",
    "# https://worldpopulationreview.com/us-counties/states/ca\n",
    "# https://worldpopulationreview.com/us-counties/states/ny\n",
    "ny_density = pd.read_csv(\"datasets/population/ny_density_pop_by_county.csv\")\n",
    "ca_density = pd.read_csv(\"datasets/population/ca_density_pop_by_county.csv\")\n",
    "ny_density['state'] = 'New York'\n",
    "ca_density['state'] = 'California'\n",
    "\n",
    "# Concatenate files together\n",
    "pop_density = pd.concat([ny_density,ca_density], axis = 0).drop(['GrowthRate'], axis=1)\n",
    "\n",
    "# Rename for Title Caps\n",
    "pop_density.rename(columns={'CTYNAME':'City Name','popDensity':'Pop Density','pop2021': 'Pop 2021','state':'State'}, inplace=True)\n",
    "\n",
    "# Secondary dataset \n",
    "pop_data = pd.read_csv(\"datasets/population/co-est2019-alldata.csv\")\n",
    "pop_data = pop_data[pop_data.STNAME.isin(['California','New York']) ][['STNAME', 'CTYNAME','POPESTIMATE2019']]\n"
   ]
  },
  {
   "cell_type": "code",
   "execution_count": 30,
   "metadata": {},
   "outputs": [
    {
     "output_type": "execute_result",
     "data": {
      "text/plain": [
       "             CTYNAME  pop2021  GrowthRate  popDensity\n",
       "6     Alameda County  1680480     11.0701   2273.7070\n",
       "57     Alpine County     1209      4.1344      1.6358\n",
       "45     Amador County    40446      6.7571     54.7239\n",
       "28      Butte County   196880    -10.4883    266.3807\n",
       "43  Calaveras County    46319      1.8716     62.6701"
      ],
      "text/html": "<div>\n<style scoped>\n    .dataframe tbody tr th:only-of-type {\n        vertical-align: middle;\n    }\n\n    .dataframe tbody tr th {\n        vertical-align: top;\n    }\n\n    .dataframe thead th {\n        text-align: right;\n    }\n</style>\n<table border=\"1\" class=\"dataframe\">\n  <thead>\n    <tr style=\"text-align: right;\">\n      <th></th>\n      <th>CTYNAME</th>\n      <th>pop2021</th>\n      <th>GrowthRate</th>\n      <th>popDensity</th>\n    </tr>\n  </thead>\n  <tbody>\n    <tr>\n      <th>6</th>\n      <td>Alameda County</td>\n      <td>1680480</td>\n      <td>11.0701</td>\n      <td>2273.7070</td>\n    </tr>\n    <tr>\n      <th>57</th>\n      <td>Alpine County</td>\n      <td>1209</td>\n      <td>4.1344</td>\n      <td>1.6358</td>\n    </tr>\n    <tr>\n      <th>45</th>\n      <td>Amador County</td>\n      <td>40446</td>\n      <td>6.7571</td>\n      <td>54.7239</td>\n    </tr>\n    <tr>\n      <th>28</th>\n      <td>Butte County</td>\n      <td>196880</td>\n      <td>-10.4883</td>\n      <td>266.3807</td>\n    </tr>\n    <tr>\n      <th>43</th>\n      <td>Calaveras County</td>\n      <td>46319</td>\n      <td>1.8716</td>\n      <td>62.6701</td>\n    </tr>\n  </tbody>\n</table>\n</div>"
     },
     "metadata": {},
     "execution_count": 30
    }
   ],
   "source": [
    "ca_density.sort_values(by='CTYNAME').head()"
   ]
  },
  {
   "cell_type": "code",
   "execution_count": 7,
   "metadata": {},
   "outputs": [
    {
     "output_type": "execute_result",
     "data": {
      "text/plain": [
       "         STNAME         CTYNAME  POPESTIMATE2019\n",
       "190  California      California         39512223\n",
       "191  California  Alameda County          1671329\n",
       "192  California   Alpine County             1129\n",
       "193  California   Amador County            39752\n",
       "194  California    Butte County           219186"
      ],
      "text/html": "<div>\n<style scoped>\n    .dataframe tbody tr th:only-of-type {\n        vertical-align: middle;\n    }\n\n    .dataframe tbody tr th {\n        vertical-align: top;\n    }\n\n    .dataframe thead th {\n        text-align: right;\n    }\n</style>\n<table border=\"1\" class=\"dataframe\">\n  <thead>\n    <tr style=\"text-align: right;\">\n      <th></th>\n      <th>STNAME</th>\n      <th>CTYNAME</th>\n      <th>POPESTIMATE2019</th>\n    </tr>\n  </thead>\n  <tbody>\n    <tr>\n      <th>190</th>\n      <td>California</td>\n      <td>California</td>\n      <td>39512223</td>\n    </tr>\n    <tr>\n      <th>191</th>\n      <td>California</td>\n      <td>Alameda County</td>\n      <td>1671329</td>\n    </tr>\n    <tr>\n      <th>192</th>\n      <td>California</td>\n      <td>Alpine County</td>\n      <td>1129</td>\n    </tr>\n    <tr>\n      <th>193</th>\n      <td>California</td>\n      <td>Amador County</td>\n      <td>39752</td>\n    </tr>\n    <tr>\n      <th>194</th>\n      <td>California</td>\n      <td>Butte County</td>\n      <td>219186</td>\n    </tr>\n  </tbody>\n</table>\n</div>"
     },
     "metadata": {},
     "execution_count": 7
    }
   ],
   "source": [
    "pop_data.head()"
   ]
  },
  {
   "source": [
    "## Covid\n",
    "Covid-19 reporting starts on 2020.01.20"
   ],
   "cell_type": "markdown",
   "metadata": {}
  },
  {
   "cell_type": "code",
   "execution_count": 79,
   "metadata": {},
   "outputs": [],
   "source": [
    "# Read in CDC data -> NOT NEEDED\n",
    "# cdc = pd.read_csv(\"datasets/covid/CDC_COVID-19_Case_Surveillance_Public_Use_Data_with_Geography.csv\")\n",
    "\n",
    "# Read in New York Times data - > SELECTED\n",
    "# This represents a cumulative number\n",
    "# https://github.com/nytimes/covid-19-data/blob/master/us-counties.csv\n",
    "nyt_cum = pd.read_csv(\"datasets/covid/nyt-us-counties.csv\")\n",
    "nyt_cum = nyt_cum[nyt_cum.state.isin(['New York','California'])].drop(['fips'], axis=1)\n",
    "nyt_cum = nyt_cum.rename(columns={'cases':'cum_cases','deaths':'cum_deaths'})\n",
    "\n",
    "# Next represents daily reports and averages - > SELECTED\n",
    "# https://github.com/nytimes/covid-19-data/tree/master/rolling-averages\n",
    "nyt_avgs = pd.read_csv(\"datasets/covid/nyt-rolling-us-counties.csv\")\n",
    "nyt_avgs = nyt_avgs[nyt_avgs.state.isin(['New York','California'])].drop(['geoid'], axis=1)\n",
    "nyt_avgs = nyt_avgs.rename(columns={'cases':'New Cases','cases_avg':'R7 Cases AVG','deaths':'Days Deaths','cases_avg_per_100k':'R7 Cases AVG Per 100k','deaths_avg':'R7 Deaths AVG','deaths_avg_per_100k':'R7 Deaths AVG Per 100k'})\n",
    "\n",
    "# Merge the dataframes into one\n",
    "covid = pd.merge(nyt_cum, nyt_avgs, on=['date','county','state'], how='outer')\n",
    "covid.rename(columns={'date':'Date', 'county':'County', 'state':'State', 'cum_cases': 'CUM Cases', 'cum_deaths':'CUM Deaths'}, inplace=True)\n",
    "\n",
    "# Read in Johns Hopkins data -> NOT NEEDED : SAME AS NYT\n",
    "# jh_confirmed = pd.read_csv(\"datasets/covid/jh_time_series_covid19_confirmed_US.csv\")\n",
    "# jh_death = pd.read_csv(\"datasets/covid/jh_time_series_covid19_deaths_US.csv\")"
   ]
  },
  {
   "cell_type": "code",
   "execution_count": 72,
   "metadata": {},
   "outputs": [
    {
     "output_type": "execute_result",
     "data": {
      "text/plain": [
       "           date         county     state  fips  cases  deaths\n",
       "416  2020-03-01  New York City  New York   NaN      1     0.0\n",
       "448  2020-03-02  New York City  New York   NaN      1     0.0\n",
       "482  2020-03-03  New York City  New York   NaN      2     0.0\n",
       "518  2020-03-04  New York City  New York   NaN      2     0.0\n",
       "565  2020-03-05  New York City  New York   NaN      4     0.0"
      ],
      "text/html": "<div>\n<style scoped>\n    .dataframe tbody tr th:only-of-type {\n        vertical-align: middle;\n    }\n\n    .dataframe tbody tr th {\n        vertical-align: top;\n    }\n\n    .dataframe thead th {\n        text-align: right;\n    }\n</style>\n<table border=\"1\" class=\"dataframe\">\n  <thead>\n    <tr style=\"text-align: right;\">\n      <th></th>\n      <th>date</th>\n      <th>county</th>\n      <th>state</th>\n      <th>fips</th>\n      <th>cases</th>\n      <th>deaths</th>\n    </tr>\n  </thead>\n  <tbody>\n    <tr>\n      <th>416</th>\n      <td>2020-03-01</td>\n      <td>New York City</td>\n      <td>New York</td>\n      <td>NaN</td>\n      <td>1</td>\n      <td>0.0</td>\n    </tr>\n    <tr>\n      <th>448</th>\n      <td>2020-03-02</td>\n      <td>New York City</td>\n      <td>New York</td>\n      <td>NaN</td>\n      <td>1</td>\n      <td>0.0</td>\n    </tr>\n    <tr>\n      <th>482</th>\n      <td>2020-03-03</td>\n      <td>New York City</td>\n      <td>New York</td>\n      <td>NaN</td>\n      <td>2</td>\n      <td>0.0</td>\n    </tr>\n    <tr>\n      <th>518</th>\n      <td>2020-03-04</td>\n      <td>New York City</td>\n      <td>New York</td>\n      <td>NaN</td>\n      <td>2</td>\n      <td>0.0</td>\n    </tr>\n    <tr>\n      <th>565</th>\n      <td>2020-03-05</td>\n      <td>New York City</td>\n      <td>New York</td>\n      <td>NaN</td>\n      <td>4</td>\n      <td>0.0</td>\n    </tr>\n  </tbody>\n</table>\n</div>"
     },
     "metadata": {},
     "execution_count": 72
    }
   ],
   "source": [
    "# Need to check if each county is labelled as the same \n",
    "# Perhaps default to string contains _____\n",
    "nyt[nyt.county == 'New York City'].head()"
   ]
  },
  {
   "cell_type": "code",
   "execution_count": 49,
   "metadata": {},
   "outputs": [
    {
     "output_type": "execute_result",
     "data": {
      "text/plain": [
       "               date   county    state    fips  cases  deaths\n",
       "1180117  2021-04-02  Autauga  Alabama  1001.0   6606    99.0\n",
       "1180118  2021-04-02  Baldwin  Alabama  1003.0  20519   301.0\n",
       "1180119  2021-04-02  Barbour  Alabama  1005.0   2228    55.0\n",
       "1180120  2021-04-02     Bibb  Alabama  1007.0   2544    58.0\n",
       "1180121  2021-04-02   Blount  Alabama  1009.0   6455   132.0"
      ],
      "text/html": "<div>\n<style scoped>\n    .dataframe tbody tr th:only-of-type {\n        vertical-align: middle;\n    }\n\n    .dataframe tbody tr th {\n        vertical-align: top;\n    }\n\n    .dataframe thead th {\n        text-align: right;\n    }\n</style>\n<table border=\"1\" class=\"dataframe\">\n  <thead>\n    <tr style=\"text-align: right;\">\n      <th></th>\n      <th>date</th>\n      <th>county</th>\n      <th>state</th>\n      <th>fips</th>\n      <th>cases</th>\n      <th>deaths</th>\n    </tr>\n  </thead>\n  <tbody>\n    <tr>\n      <th>1180117</th>\n      <td>2021-04-02</td>\n      <td>Autauga</td>\n      <td>Alabama</td>\n      <td>1001.0</td>\n      <td>6606</td>\n      <td>99.0</td>\n    </tr>\n    <tr>\n      <th>1180118</th>\n      <td>2021-04-02</td>\n      <td>Baldwin</td>\n      <td>Alabama</td>\n      <td>1003.0</td>\n      <td>20519</td>\n      <td>301.0</td>\n    </tr>\n    <tr>\n      <th>1180119</th>\n      <td>2021-04-02</td>\n      <td>Barbour</td>\n      <td>Alabama</td>\n      <td>1005.0</td>\n      <td>2228</td>\n      <td>55.0</td>\n    </tr>\n    <tr>\n      <th>1180120</th>\n      <td>2021-04-02</td>\n      <td>Bibb</td>\n      <td>Alabama</td>\n      <td>1007.0</td>\n      <td>2544</td>\n      <td>58.0</td>\n    </tr>\n    <tr>\n      <th>1180121</th>\n      <td>2021-04-02</td>\n      <td>Blount</td>\n      <td>Alabama</td>\n      <td>1009.0</td>\n      <td>6455</td>\n      <td>132.0</td>\n    </tr>\n  </tbody>\n</table>\n</div>"
     },
     "metadata": {},
     "execution_count": 49
    }
   ],
   "source": [
    "nyt[nyt.date == '2021-04-02'].head()"
   ]
  },
  {
   "cell_type": "code",
   "execution_count": 52,
   "metadata": {},
   "outputs": [
    {
     "output_type": "execute_result",
     "data": {
      "text/plain": [
       "    Admin2 Province_State  4/2/21\n",
       "0  Autauga        Alabama    6606\n",
       "1  Baldwin        Alabama   20519\n",
       "2  Barbour        Alabama    2228\n",
       "3     Bibb        Alabama    2544\n",
       "4   Blount        Alabama    6455"
      ],
      "text/html": "<div>\n<style scoped>\n    .dataframe tbody tr th:only-of-type {\n        vertical-align: middle;\n    }\n\n    .dataframe tbody tr th {\n        vertical-align: top;\n    }\n\n    .dataframe thead th {\n        text-align: right;\n    }\n</style>\n<table border=\"1\" class=\"dataframe\">\n  <thead>\n    <tr style=\"text-align: right;\">\n      <th></th>\n      <th>Admin2</th>\n      <th>Province_State</th>\n      <th>4/2/21</th>\n    </tr>\n  </thead>\n  <tbody>\n    <tr>\n      <th>0</th>\n      <td>Autauga</td>\n      <td>Alabama</td>\n      <td>6606</td>\n    </tr>\n    <tr>\n      <th>1</th>\n      <td>Baldwin</td>\n      <td>Alabama</td>\n      <td>20519</td>\n    </tr>\n    <tr>\n      <th>2</th>\n      <td>Barbour</td>\n      <td>Alabama</td>\n      <td>2228</td>\n    </tr>\n    <tr>\n      <th>3</th>\n      <td>Bibb</td>\n      <td>Alabama</td>\n      <td>2544</td>\n    </tr>\n    <tr>\n      <th>4</th>\n      <td>Blount</td>\n      <td>Alabama</td>\n      <td>6455</td>\n    </tr>\n  </tbody>\n</table>\n</div>"
     },
     "metadata": {},
     "execution_count": 52
    }
   ],
   "source": [
    "jh_confirmed[['Admin2','Province_State','4/2/21']].head()"
   ]
  },
  {
   "cell_type": "code",
   "execution_count": 53,
   "metadata": {},
   "outputs": [
    {
     "output_type": "execute_result",
     "data": {
      "text/plain": [
       "    Admin2 Province_State  4/2/21\n",
       "0  Autauga        Alabama      99\n",
       "1  Baldwin        Alabama     301\n",
       "2  Barbour        Alabama      55\n",
       "3     Bibb        Alabama      58\n",
       "4   Blount        Alabama     132"
      ],
      "text/html": "<div>\n<style scoped>\n    .dataframe tbody tr th:only-of-type {\n        vertical-align: middle;\n    }\n\n    .dataframe tbody tr th {\n        vertical-align: top;\n    }\n\n    .dataframe thead th {\n        text-align: right;\n    }\n</style>\n<table border=\"1\" class=\"dataframe\">\n  <thead>\n    <tr style=\"text-align: right;\">\n      <th></th>\n      <th>Admin2</th>\n      <th>Province_State</th>\n      <th>4/2/21</th>\n    </tr>\n  </thead>\n  <tbody>\n    <tr>\n      <th>0</th>\n      <td>Autauga</td>\n      <td>Alabama</td>\n      <td>99</td>\n    </tr>\n    <tr>\n      <th>1</th>\n      <td>Baldwin</td>\n      <td>Alabama</td>\n      <td>301</td>\n    </tr>\n    <tr>\n      <th>2</th>\n      <td>Barbour</td>\n      <td>Alabama</td>\n      <td>55</td>\n    </tr>\n    <tr>\n      <th>3</th>\n      <td>Bibb</td>\n      <td>Alabama</td>\n      <td>58</td>\n    </tr>\n    <tr>\n      <th>4</th>\n      <td>Blount</td>\n      <td>Alabama</td>\n      <td>132</td>\n    </tr>\n  </tbody>\n</table>\n</div>"
     },
     "metadata": {},
     "execution_count": 53
    }
   ],
   "source": [
    "jh_death[['Admin2','Province_State','4/2/21']].head()"
   ]
  },
  {
   "cell_type": "code",
   "execution_count": null,
   "metadata": {},
   "outputs": [],
   "source": [
    "# Investigating Conclusion\n",
    "# NYT maintains JH integrity and is in a better format for wrangling."
   ]
  },
  {
   "source": [
    "# Functions for Metrics, Statistics, Classification "
   ],
   "cell_type": "markdown",
   "metadata": {}
  },
  {
   "source": [
    "<em>Drilling into true affordability requires fincial data we don't have</em>\n",
    "\n",
    "The first-time homebuyer affordability index is based upon the assumption of 70% median household income, 85% of the median house price, a 10% down payment on a 30-year fixed rate mortgage at prevailing rates plus 0.25% added per month for mortgage insurance. The assumption of 25% of gross income for mortgage repayments also applies.\n",
    "\n",
    "The composite housing affordability index assumes a median household income, median house prices, a 20% down payment on a 30-year fixed rate mortgage at prevailing rates. The assumption is also made that the lender will not allow principal and interest costs to exceed 25% of gross income.\n",
    "\n",
    "<em>Therefore we need to use some generic metric such as the 30% rule.</em>\n",
    "\n",
    "A ratio of housing cost to income is the gold standard, it is known as the 30 percent rule, and it is established because of legal actions.\n",
    "\n",
    "https://www.forbes.com/sites/rogervaldez/2020/02/07/housing-ideas-for-the-feds-find-a-new-measure-of-affordable/?sh=2e9f3c3c36f8\n",
    "\n",
    "https://www.huduser.gov/portal/pdredge/pdr_edge_featd_article_092214.html"
   ],
   "cell_type": "markdown",
   "metadata": {}
  },
  {
   "cell_type": "code",
   "execution_count": 255,
   "metadata": {},
   "outputs": [],
   "source": [
    "# For some reason nesting this inside summary states isn't working\n",
    "def affordability(row):\n",
    "    \"\"\"\n",
    "    Row wise operations for apply function\n",
    "    Return row of values\n",
    "    \"\"\"\n",
    "    P = row['sale_price']\n",
    "    r = freddie_mac_mortgage_rates[row['transaction_date'].year]\n",
    "    row['Monthly Mortgage'] = (P * r * ((1 + r)**n)) / (((1 + r)**n) - 1)\n",
    "    row['Affordability'] = 100 * ((monthly_30 - row['Monthly Mortgage']) / monthly_30 )\n",
    "    return row"
   ]
  },
  {
   "cell_type": "code",
   "execution_count": 304,
   "metadata": {},
   "outputs": [],
   "source": [
    "def summary_stats(df, county, median):\n",
    "    \"\"\"\n",
    "    Requires numpy \n",
    "    Input variable = df (dataframe) , area median income (int), county (string)\n",
    "\n",
    "    Fixed Monthly Mortgage Repayment Calculation = P * r * (1 + r)n / [(1 + r)n – 1]\n",
    "    where P = Outstanding loan amount, r = Effective monthly interest rate, \n",
    "    n = Total number of years * 12 months\n",
    "\n",
    "    Return new unit price columns -> 'price_per_size_unit', 'price_per_bed_unit', 'price_per_lot_size_unit'\n",
    "    Return class based on 'price_per_size_unit'  -> 'tier' [lower, mid , top]\n",
    "    Return affordability -> 'monthly_mortgage' , 'affordability' , 'ami'\n",
    "    \"\"\"\n",
    "\n",
    "    # Unit price columns\n",
    "    df['Price Per Size Unit'] = np.where(df['size'] != 0, \n",
    "        round(df['sale_price'] / df['size'], 2), # True\n",
    "        np.nan # False\n",
    "        )\n",
    "    df['Price Per Bed Unit'] = np.where(df['bedrooms'] != 0, \n",
    "        round(df['sale_price'] / df['bedrooms'], 2), # True\n",
    "        np.nan # False\n",
    "        )\n",
    "    df['Price Per Lot Size Unit'] = np.where(df['lot_size'] != 0, \n",
    "        round(df['sale_price'] / df['lot_size'], 2), # True\n",
    "        np.nan # False\n",
    "        )\n",
    "\n",
    "    # Convert to datetime\n",
    "    df['transaction_date'] = pd.to_datetime(df['transaction_date'])\n",
    "\n",
    "    # Binning into 3 equal tiers based on price\n",
    "    df['Tier'] = pd.cut(\n",
    "        df[\n",
    "            (df['Price Per Size Unit'].notna()) & \n",
    "            (df['sub_type'].isin(['RESIDENTIAL','HOUSE']))\n",
    "            ]['Price Per Size Unit'], \n",
    "        bins=3, \n",
    "        labels=['Bottom','Middle','Top'], \n",
    "        ordered=True)\n",
    "\n",
    "    # Mortgage variables\n",
    "    # Cite: http://www.freddiemac.com/pmms/docs/30yr_pmmsmnth.xls\n",
    "    freddie_mac_mortgage_rates = {2019:3.94,2020:3.11,2021:2.92}\n",
    "    n = 30 * 12\n",
    "    monthly_30 = ( median / 12 ) * .3\n",
    "\n",
    "    # Apply the affordability function\n",
    "    df = df.apply(affordability, axis=1)\n",
    "    \n",
    "\n",
    "    return df\n"
   ]
  },
  {
   "cell_type": "code",
   "execution_count": null,
   "metadata": {},
   "outputs": [],
   "source": [
    "# Abandoned this calculation for NYT stats for integrity reasons\n",
    "\n",
    "def covid_stats(county, covid_df = nyt, pop_df = pop_data):\n",
    "    \"\"\"\n",
    "    This function calculates rolling averages and percentage of population statistics\n",
    "    INPUT -> county = county (string) ; covid_df = new york times (dataframe) ; pop_df = population (dataframe)\n",
    "\n",
    "    RRTURN -> None ( in-place dataframe transformation )\n",
    "    \"\"\"\n",
    "\n",
    "    # Day's Confirmed Cases / Population\n",
    "    # covid_df['confirmed_pct'] = covid_df['cases'] / pop_data[pop_data.CTYNAME.str.contains(county)]['POPESTIMATE2019']\n",
    "\n",
    "    # Day's Deaths / Population\n",
    "    #covid_df['death_pct'] = covid_df['deaths'] / pop_data[pop_data.CTYNAME.str.contains(county)]['POPESTIMATE2019']\n",
    "\n",
    "    # 7 day rolling cases_avg_per_100k\n",
    "    # 7 day rolling deaths_avg_per_100k\n",
    "\n",
    "\n",
    "    return none"
   ]
  },
  {
   "source": [
    "# Run summary_stats() on NYC"
   ],
   "cell_type": "markdown",
   "metadata": {}
  },
  {
   "cell_type": "code",
   "execution_count": 289,
   "metadata": {},
   "outputs": [
    {
     "output_type": "stream",
     "name": "stdout",
     "text": [
      "County income data mising for Bradford. Continuing...\n",
      "County income data mising for Bergen. Continuing...\n",
      "County income data mising for McKean. Continuing...\n",
      "County income data mising for Suffolk. Continuing...\n",
      "County income data mising for Erie_2. Continuing...\n",
      "County income data mising for Middlesex_1. Continuing...\n",
      "County income data mising for Kings. Continuing...\n",
      "County income data mising for Lewis. Continuing...\n",
      "County income data mising for New Haven. Continuing...\n",
      "County income data mising for Pike. Continuing...\n",
      "County income data mising for Delaware. Continuing...\n",
      "County income data mising for Potter. Continuing...\n",
      "County income data mising for Berkshire. Continuing...\n",
      "County income data mising for Fairfield. Continuing...\n",
      "County income data mising for Hamilton. Continuing...\n",
      "County income data mising for Chemung. Continuing...\n",
      "County income data mising for Bennington. Continuing...\n",
      "County income data mising for Rutland. Continuing...\n",
      "County income data mising for Genesee. Continuing...\n",
      "County income data mising for Wayne_2. Continuing...\n",
      "County income data mising for Seneca. Continuing...\n",
      "County income data mising for Tioga_2. Continuing...\n",
      "County income data mising for Saratoga. Continuing...\n",
      "County income data mising for Wayne_1. Continuing...\n",
      "County income data mising for Hudson. Continuing...\n",
      "County income data mising for Passaic. Continuing...\n",
      "County income data mising for Steuben. Continuing...\n",
      "County income data mising for Tioga_1. Continuing...\n",
      "County income data mising for Union. Continuing...\n",
      "County income data mising for Sussex. Continuing...\n",
      "County income data mising for Tompkins. Continuing...\n",
      "County income data mising for Addison. Continuing...\n",
      "County income data mising for Washington_2. Continuing...\n",
      "County income data mising for Queens. Continuing...\n",
      "County income data mising for Erie_1. Continuing...\n",
      "County income data mising for Chittenden. Continuing...\n",
      "County income data mising for Dutchess. Continuing...\n",
      "County income data mising for Litchfield. Continuing...\n",
      "County income data mising for Susquehanna. Continuing...\n",
      "County income data mising for Livingston. Continuing...\n",
      "County income data mising for New London. Continuing...\n",
      "County income data mising for Warren_2. Continuing...\n",
      "County income data mising for Ontario. Continuing...\n",
      "County income data mising for Grand Isle. Continuing...\n",
      "County income data mising for Montgomery. Continuing...\n",
      "County income data mising for Nassau. Continuing...\n",
      "County income data mising for New York. Continuing...\n",
      "County income data mising for Fulton. Continuing...\n",
      "County income data mising for Warren_1. Continuing...\n",
      "County income data mising for Middlesex_2. Continuing...\n",
      "County income data mising for Monmouth. Continuing...\n",
      "County income data mising for Yates. Continuing...\n",
      "County income data mising for Washington_1. Continuing...\n"
     ]
    }
   ],
   "source": [
    "for county_key in sorted(ny_dict_df.keys()):\n",
    "    missing_counties = list()\n",
    "    try:\n",
    "        ny_dict_df[county_key] = summary_stats(\n",
    "                df = ny_dict_df[county_key], \n",
    "                county = county_key, \n",
    "                median = int(median_income_df[\n",
    "                        (median_income_df['State ABV'] == 'NY') & \n",
    "                        (median_income_df['County'].str.contains(str(county_key)))\n",
    "                        ]['Median Household Income'])\n",
    "                        )\n",
    "    except:\n",
    "        missing_counties.append(county_key)\n",
    "        print(f\"County income data mising for {county_key}. Continuing...\")\n",
    "        continue"
   ]
  },
  {
   "cell_type": "code",
   "execution_count": null,
   "metadata": {},
   "outputs": [],
   "source": []
  }
 ]
}