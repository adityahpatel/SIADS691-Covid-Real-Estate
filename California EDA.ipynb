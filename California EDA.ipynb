{
 "cells": [
  {
   "cell_type": "markdown",
   "metadata": {},
   "source": [
    "<font size=\"5\"> Data Manipulation using DASK and Causal Inference using Diff-in-Diff approach"
   ]
  },
  {
   "cell_type": "code",
   "execution_count": 31,
   "metadata": {},
   "outputs": [],
   "source": [
    "import requests, json, time, statistics, aiohttp, pandas as pd, numpy as np, altair as alt\n",
    "import statsmodels.api as sm, statsmodels.formula.api as smf\n",
    "from datetime import datetime, date, timedelta\n",
    "from dateutil.relativedelta import relativedelta\n",
    "import matplotlib.pyplot as plt\n",
    "from numpy.fft import fft,fftfreq\n",
    "\n",
    "# DASK\n",
    "import dask.array as da\n",
    "import dask.dataframe as dd\n",
    "import dask.bag as bag\n",
    "from dask.distributed import LocalCluster, Client\n",
    "\n",
    "pd.set_option('display.max_columns', 500)"
   ]
  },
  {
   "cell_type": "code",
   "execution_count": 32,
   "metadata": {
    "scrolled": false
   },
   "outputs": [],
   "source": [
    "s = pd.read_csv('/Users/adityahpatel/Desktop/PYTHON PROGRAMS/Milestone Project/covid_confirmed_usafacts.csv')\n",
    "cali = s[s.State == 'CA']   # Pulling out all counties of California, same can be done for NY state\n",
    "losangeles_covid = cali[cali['County Name']=='Los Angeles County ']\n",
    "losangeles_covid = losangeles_covid.T\n",
    "losangeles_covid.reset_index(inplace = True)\n",
    "losangeles_covid = losangeles_covid[4:]\n",
    "losangeles_covid.columns = ['date', 'cases_cumulative']\n",
    "losangeles_covid   # each value in 'date' column is a date object not string to facilitate merging\n",
    "losangeles_covid['cases_cumulative'] = losangeles_covid['cases_cumulative'].astype(int)\n"
   ]
  },
  {
   "cell_type": "markdown",
   "metadata": {},
   "source": [
    "<font size=\"3\"> Data wrangling using DASK"
   ]
  },
  {
   "cell_type": "code",
   "execution_count": 33,
   "metadata": {},
   "outputs": [],
   "source": [
    "# this function reads a batch of JSON files and returns a DASK bag containing all transactions. Each item in the \n",
    "# Dask bag is a dictionary\n",
    "\n",
    "def work_read(filepath):\n",
    "    b = bag.read_text(filepath).map(json.loads) \n",
    "    b = b.flatten()   # without flattening the bag, the results in the bag will be useless due to excessive nesting\n",
    "    return b\n",
    "\n",
    "# preprocessing function make sure we don't run into keyerrors to prevent \"keyError/ Key not found\"\n",
    "\n",
    "def filters_preprocessing(bag_item):   # each bag_item will be a dictionary\n",
    "    date = datetime.strptime(bag_item['sale']['saleTransDate'], '%Y-%m-%d')\n",
    "    condition1 = 'proptype' in bag_item['summary'].keys()\n",
    "    condition2 = ('amount' in bag_item['sale'].keys()) and ('saleamt' in bag_item['sale']['amount'].keys()) \n",
    "    condition3 = bag_item['summary']['proptype'] == 'SFR'\n",
    "    return (condition1 and condition2) and condition3 \n",
    "\n",
    "def filter_dates_pre(bag_item):        # filter transactions within pre-treatment period. Discard others.\n",
    "    date = datetime.strptime(bag_item['sale']['saleTransDate'], '%Y-%m-%d')\n",
    "    condition = (date >= datetime(2019,4,14)) & (date < datetime(2019,5,15))\n",
    "    return condition\n",
    "\n",
    "def filter_dates_post(bag_item):       # filter transactions within post-treatment period. Discard others.\n",
    "    date = datetime.strptime(bag_item['sale']['saleTransDate'], '%Y-%m-%d')\n",
    "    condition = (date >= datetime(2020,4,14)) & (date < datetime(2020,5,15))\n",
    "    return condition\n",
    "\n",
    "def extractor(record): # This Mapper takes as input a dictionary and returns the column of interest(sales price) \n",
    "    return record['sale']['amount']['saleamt'] "
   ]
  },
  {
   "cell_type": "markdown",
   "metadata": {},
   "source": [
    "<font size=\"4\"> Read batch files obtained by Attom API calls for both counties into Dask Bags "
   ]
  },
  {
   "cell_type": "code",
   "execution_count": 34,
   "metadata": {},
   "outputs": [],
   "source": [
    "path_losangeles = '/Users/adityahpatel/Desktop/PYTHON PROGRAMS/Housing Full Dataset/CO06037 *' \n",
    "path_sanfrancisco = '/Users/adityahpatel/Desktop/PYTHON PROGRAMS/Housing Full Dataset/CO06075 *'\n",
    "\n",
    "bag_losangeles = work_read(path_losangeles)  # bag contains all transations in LA county from 1/1/2019 \n",
    "bag_sanfrancisco = work_read(path_sanfrancisco)"
   ]
  },
  {
   "cell_type": "markdown",
   "metadata": {},
   "source": [
    "<font size=\"4\"> Data Processing using DASK "
   ]
  },
  {
   "cell_type": "code",
   "execution_count": 35,
   "metadata": {},
   "outputs": [],
   "source": [
    "# Preprocessing Required for Dask. Needed to make sure there are no keyerrors while parsing dictionaries in Bag\n",
    "\n",
    "bag_losangeles = bag_losangeles.filter(lambda x:'saleTransDate' in x['sale'].keys()).filter(lambda x:'proptype' in x['summary'].keys())\n",
    "bag_sanfrancisco = bag_sanfrancisco.filter(lambda x:'saleTransDate' in x['sale'].keys()).filter(lambda x:'proptype' in x['summary'].keys())"
   ]
  },
  {
   "cell_type": "code",
   "execution_count": 36,
   "metadata": {},
   "outputs": [],
   "source": [
    "def data_extractor(record):\n",
    "    return ({'sales_price': int(record['sale']['amount']['saleamt']),\n",
    "             'date': datetime.strptime(record['sale']['saleTransDate'], '%Y-%m-%d').date().strftime(\"%Y-%m-%d\") })"
   ]
  },
  {
   "cell_type": "code",
   "execution_count": 37,
   "metadata": {},
   "outputs": [],
   "source": [
    "#### convert dask bag to dask dataframe\n",
    "ddf = bag_losangeles.filter(filters_preprocessing).map(data_extractor).to_dataframe()"
   ]
  },
  {
   "cell_type": "markdown",
   "metadata": {},
   "source": [
    "<font size=\"3\"> Merge Dask dataset with Pandas dataset and groupby( )"
   ]
  },
  {
   "cell_type": "code",
   "execution_count": 38,
   "metadata": {},
   "outputs": [
    {
     "data": {
      "text/html": [
       "<div>\n",
       "<style scoped>\n",
       "    .dataframe tbody tr th:only-of-type {\n",
       "        vertical-align: middle;\n",
       "    }\n",
       "\n",
       "    .dataframe tbody tr th {\n",
       "        vertical-align: top;\n",
       "    }\n",
       "\n",
       "    .dataframe thead th {\n",
       "        text-align: right;\n",
       "    }\n",
       "</style>\n",
       "<table border=\"1\" class=\"dataframe\">\n",
       "  <thead>\n",
       "    <tr style=\"text-align: right;\">\n",
       "      <th></th>\n",
       "      <th>sales_price</th>\n",
       "      <th>date</th>\n",
       "      <th>cases_cumulative</th>\n",
       "    </tr>\n",
       "  </thead>\n",
       "  <tbody>\n",
       "    <tr>\n",
       "      <th>0</th>\n",
       "      <td>8275000</td>\n",
       "      <td>2020-01-22</td>\n",
       "      <td>0</td>\n",
       "    </tr>\n",
       "    <tr>\n",
       "      <th>1</th>\n",
       "      <td>520000</td>\n",
       "      <td>2020-01-22</td>\n",
       "      <td>0</td>\n",
       "    </tr>\n",
       "    <tr>\n",
       "      <th>2</th>\n",
       "      <td>436000</td>\n",
       "      <td>2020-01-22</td>\n",
       "      <td>0</td>\n",
       "    </tr>\n",
       "    <tr>\n",
       "      <th>3</th>\n",
       "      <td>637500</td>\n",
       "      <td>2020-01-22</td>\n",
       "      <td>0</td>\n",
       "    </tr>\n",
       "  </tbody>\n",
       "</table>\n",
       "</div>"
      ],
      "text/plain": [
       "   sales_price        date  cases_cumulative\n",
       "0      8275000  2020-01-22                 0\n",
       "1       520000  2020-01-22                 0\n",
       "2       436000  2020-01-22                 0\n",
       "3       637500  2020-01-22                 0"
      ]
     },
     "execution_count": 38,
     "metadata": {},
     "output_type": "execute_result"
    }
   ],
   "source": [
    "# We inner join Dask dataframe with Pandas Dataframe on \"date\" column\n",
    "df = ddf.merge(losangeles_covid, how = 'inner', on = 'date').compute()\n",
    "df.head(4)"
   ]
  },
  {
   "cell_type": "code",
   "execution_count": 39,
   "metadata": {},
   "outputs": [
    {
     "data": {
      "text/html": [
       "<div>\n",
       "<style scoped>\n",
       "    .dataframe tbody tr th:only-of-type {\n",
       "        vertical-align: middle;\n",
       "    }\n",
       "\n",
       "    .dataframe tbody tr th {\n",
       "        vertical-align: top;\n",
       "    }\n",
       "\n",
       "    .dataframe thead th {\n",
       "        text-align: right;\n",
       "    }\n",
       "</style>\n",
       "<table border=\"1\" class=\"dataframe\">\n",
       "  <thead>\n",
       "    <tr style=\"text-align: right;\">\n",
       "      <th></th>\n",
       "      <th>median_daily_sales_price</th>\n",
       "      <th>cases_cumulative</th>\n",
       "      <th>new_cases</th>\n",
       "    </tr>\n",
       "    <tr>\n",
       "      <th>date</th>\n",
       "      <th></th>\n",
       "      <th></th>\n",
       "      <th></th>\n",
       "    </tr>\n",
       "  </thead>\n",
       "  <tbody>\n",
       "    <tr>\n",
       "      <th>2020-01-22</th>\n",
       "      <td>650000</td>\n",
       "      <td>0</td>\n",
       "      <td>0.0</td>\n",
       "    </tr>\n",
       "    <tr>\n",
       "      <th>2020-01-23</th>\n",
       "      <td>672500</td>\n",
       "      <td>0</td>\n",
       "      <td>0.0</td>\n",
       "    </tr>\n",
       "    <tr>\n",
       "      <th>2020-01-24</th>\n",
       "      <td>706000</td>\n",
       "      <td>0</td>\n",
       "      <td>0.0</td>\n",
       "    </tr>\n",
       "    <tr>\n",
       "      <th>2020-01-25</th>\n",
       "      <td>637750</td>\n",
       "      <td>0</td>\n",
       "      <td>0.0</td>\n",
       "    </tr>\n",
       "  </tbody>\n",
       "</table>\n",
       "</div>"
      ],
      "text/plain": [
       "            median_daily_sales_price  cases_cumulative  new_cases\n",
       "date                                                             \n",
       "2020-01-22                    650000                 0        0.0\n",
       "2020-01-23                    672500                 0        0.0\n",
       "2020-01-24                    706000                 0        0.0\n",
       "2020-01-25                    637750                 0        0.0"
      ]
     },
     "execution_count": 39,
     "metadata": {},
     "output_type": "execute_result"
    }
   ],
   "source": [
    "df = df.groupby('date').agg({'sales_price':'median', 'cases_cumulative': 'mean'})\n",
    "df['sales_price']=df['sales_price'].round()\n",
    "\n",
    "\n",
    "df.columns = ['median_daily_sales_price', 'cases_cumulative']\n",
    "df['new_cases'] = df['cases_cumulative'].diff().fillna(0)\n",
    "df = df[df['new_cases']>=0]\n",
    "df.head(4)"
   ]
  },
  {
   "cell_type": "markdown",
   "metadata": {},
   "source": [
    "<font size=\"3\"> Explore the relationship between Covid-19 cases and Average home prices. As more people in the county get infected, do we see any drop in home prices of SFR? \n"
   ]
  },
  {
   "cell_type": "code",
   "execution_count": 40,
   "metadata": {},
   "outputs": [
    {
     "data": {
      "text/html": [
       "\n",
       "<div id=\"altair-viz-b3d9bffdccb2482e8f2dfda2e43beb80\"></div>\n",
       "<script type=\"text/javascript\">\n",
       "  (function(spec, embedOpt){\n",
       "    let outputDiv = document.currentScript.previousElementSibling;\n",
       "    if (outputDiv.id !== \"altair-viz-b3d9bffdccb2482e8f2dfda2e43beb80\") {\n",
       "      outputDiv = document.getElementById(\"altair-viz-b3d9bffdccb2482e8f2dfda2e43beb80\");\n",
       "    }\n",
       "    const paths = {\n",
       "      \"vega\": \"https://cdn.jsdelivr.net/npm//vega@5?noext\",\n",
       "      \"vega-lib\": \"https://cdn.jsdelivr.net/npm//vega-lib?noext\",\n",
       "      \"vega-lite\": \"https://cdn.jsdelivr.net/npm//vega-lite@4.8.1?noext\",\n",
       "      \"vega-embed\": \"https://cdn.jsdelivr.net/npm//vega-embed@6?noext\",\n",
       "    };\n",
       "\n",
       "    function loadScript(lib) {\n",
       "      return new Promise(function(resolve, reject) {\n",
       "        var s = document.createElement('script');\n",
       "        s.src = paths[lib];\n",
       "        s.async = true;\n",
       "        s.onload = () => resolve(paths[lib]);\n",
       "        s.onerror = () => reject(`Error loading script: ${paths[lib]}`);\n",
       "        document.getElementsByTagName(\"head\")[0].appendChild(s);\n",
       "      });\n",
       "    }\n",
       "\n",
       "    function showError(err) {\n",
       "      outputDiv.innerHTML = `<div class=\"error\" style=\"color:red;\">${err}</div>`;\n",
       "      throw err;\n",
       "    }\n",
       "\n",
       "    function displayChart(vegaEmbed) {\n",
       "      vegaEmbed(outputDiv, spec, embedOpt)\n",
       "        .catch(err => showError(`Javascript Error: ${err.message}<br>This usually means there's a typo in your chart specification. See the javascript console for the full traceback.`));\n",
       "    }\n",
       "\n",
       "    if(typeof define === \"function\" && define.amd) {\n",
       "      requirejs.config({paths});\n",
       "      require([\"vega-embed\"], displayChart, err => showError(`Error loading script: ${err.message}`));\n",
       "    } else if (typeof vegaEmbed === \"function\") {\n",
       "      displayChart(vegaEmbed);\n",
       "    } else {\n",
       "      loadScript(\"vega\")\n",
       "        .then(() => loadScript(\"vega-lite\"))\n",
       "        .then(() => loadScript(\"vega-embed\"))\n",
       "        .catch(showError)\n",
       "        .then(() => displayChart(vegaEmbed));\n",
       "    }\n",
       "  })({\"config\": {\"view\": {\"continuousWidth\": 400, \"continuousHeight\": 300}}, \"layer\": [{\"mark\": \"point\", \"encoding\": {\"x\": {\"type\": \"quantitative\", \"axis\": {\"titleFontSize\": 20}, \"field\": \"new_cases\", \"scale\": {\"domain\": [0, 30000]}}, \"y\": {\"type\": \"quantitative\", \"axis\": {\"titleFontSize\": 20}, \"field\": \"median_daily_sales_price\"}}}, {\"mark\": \"line\", \"encoding\": {\"x\": {\"type\": \"quantitative\", \"axis\": {\"titleFontSize\": 20}, \"field\": \"new_cases\", \"scale\": {\"domain\": [0, 30000]}}, \"y\": {\"type\": \"quantitative\", \"axis\": {\"titleFontSize\": 20}, \"field\": \"median_daily_sales_price\"}}, \"height\": 300, \"transform\": [{\"on\": \"new_cases\", \"regression\": \"median_daily_sales_price\"}], \"width\": 600}], \"data\": {\"name\": \"data-02c3f58b7c7a8fb683f6ca3b4a91ea0a\"}, \"$schema\": \"https://vega.github.io/schema/vega-lite/v4.8.1.json\", \"datasets\": {\"data-02c3f58b7c7a8fb683f6ca3b4a91ea0a\": [{\"median_daily_sales_price\": 650000, \"cases_cumulative\": 0, \"new_cases\": 0.0}, {\"median_daily_sales_price\": 672500, \"cases_cumulative\": 0, \"new_cases\": 0.0}, {\"median_daily_sales_price\": 706000, \"cases_cumulative\": 0, \"new_cases\": 0.0}, {\"median_daily_sales_price\": 637750, \"cases_cumulative\": 0, \"new_cases\": 0.0}, {\"median_daily_sales_price\": 551000, \"cases_cumulative\": 1, \"new_cases\": 1.0}, {\"median_daily_sales_price\": 675000, \"cases_cumulative\": 1, \"new_cases\": 0.0}, {\"median_daily_sales_price\": 733000, \"cases_cumulative\": 1, \"new_cases\": 0.0}, {\"median_daily_sales_price\": 735000, \"cases_cumulative\": 1, \"new_cases\": 0.0}, {\"median_daily_sales_price\": 697000, \"cases_cumulative\": 1, \"new_cases\": 0.0}, {\"median_daily_sales_price\": 605000, \"cases_cumulative\": 1, \"new_cases\": 0.0}, {\"median_daily_sales_price\": 721500, \"cases_cumulative\": 1, \"new_cases\": 0.0}, {\"median_daily_sales_price\": 701000, \"cases_cumulative\": 1, \"new_cases\": 0.0}, {\"median_daily_sales_price\": 610000, \"cases_cumulative\": 1, \"new_cases\": 0.0}, {\"median_daily_sales_price\": 750000, \"cases_cumulative\": 1, \"new_cases\": 0.0}, {\"median_daily_sales_price\": 740250, \"cases_cumulative\": 1, \"new_cases\": 0.0}, {\"median_daily_sales_price\": 690000, \"cases_cumulative\": 1, \"new_cases\": 0.0}, {\"median_daily_sales_price\": 690000, \"cases_cumulative\": 1, \"new_cases\": 0.0}, {\"median_daily_sales_price\": 975000, \"cases_cumulative\": 1, \"new_cases\": 0.0}, {\"median_daily_sales_price\": 1200000, \"cases_cumulative\": 1, \"new_cases\": 0.0}, {\"median_daily_sales_price\": 675000, \"cases_cumulative\": 1, \"new_cases\": 0.0}, {\"median_daily_sales_price\": 677500, \"cases_cumulative\": 1, \"new_cases\": 0.0}, {\"median_daily_sales_price\": 703000, \"cases_cumulative\": 1, \"new_cases\": 0.0}, {\"median_daily_sales_price\": 700000, \"cases_cumulative\": 1, \"new_cases\": 0.0}, {\"median_daily_sales_price\": 758000, \"cases_cumulative\": 1, \"new_cases\": 0.0}, {\"median_daily_sales_price\": 617000, \"cases_cumulative\": 1, \"new_cases\": 0.0}, {\"median_daily_sales_price\": 420000, \"cases_cumulative\": 1, \"new_cases\": 0.0}, {\"median_daily_sales_price\": 777500, \"cases_cumulative\": 1, \"new_cases\": 0.0}, {\"median_daily_sales_price\": 800000, \"cases_cumulative\": 1, \"new_cases\": 0.0}, {\"median_daily_sales_price\": 772000, \"cases_cumulative\": 1, \"new_cases\": 0.0}, {\"median_daily_sales_price\": 705000, \"cases_cumulative\": 1, \"new_cases\": 0.0}, {\"median_daily_sales_price\": 679000, \"cases_cumulative\": 1, \"new_cases\": 0.0}, {\"median_daily_sales_price\": 700000, \"cases_cumulative\": 1, \"new_cases\": 0.0}, {\"median_daily_sales_price\": 922500, \"cases_cumulative\": 1, \"new_cases\": 0.0}, {\"median_daily_sales_price\": 675000, \"cases_cumulative\": 1, \"new_cases\": 0.0}, {\"median_daily_sales_price\": 752500, \"cases_cumulative\": 1, \"new_cases\": 0.0}, {\"median_daily_sales_price\": 710000, \"cases_cumulative\": 1, \"new_cases\": 0.0}, {\"median_daily_sales_price\": 709000, \"cases_cumulative\": 1, \"new_cases\": 0.0}, {\"median_daily_sales_price\": 685000, \"cases_cumulative\": 1, \"new_cases\": 0.0}, {\"median_daily_sales_price\": 720500, \"cases_cumulative\": 1, \"new_cases\": 0.0}, {\"median_daily_sales_price\": 576000, \"cases_cumulative\": 1, \"new_cases\": 0.0}, {\"median_daily_sales_price\": 713500, \"cases_cumulative\": 1, \"new_cases\": 0.0}, {\"median_daily_sales_price\": 730000, \"cases_cumulative\": 1, \"new_cases\": 0.0}, {\"median_daily_sales_price\": 719000, \"cases_cumulative\": 7, \"new_cases\": 6.0}, {\"median_daily_sales_price\": 690500, \"cases_cumulative\": 11, \"new_cases\": 4.0}, {\"median_daily_sales_price\": 674000, \"cases_cumulative\": 13, \"new_cases\": 2.0}, {\"median_daily_sales_price\": 455000, \"cases_cumulative\": 14, \"new_cases\": 1.0}, {\"median_daily_sales_price\": 713500, \"cases_cumulative\": 14, \"new_cases\": 0.0}, {\"median_daily_sales_price\": 684500, \"cases_cumulative\": 20, \"new_cases\": 6.0}, {\"median_daily_sales_price\": 702000, \"cases_cumulative\": 20, \"new_cases\": 0.0}, {\"median_daily_sales_price\": 650000, \"cases_cumulative\": 29, \"new_cases\": 9.0}, {\"median_daily_sales_price\": 733250, \"cases_cumulative\": 29, \"new_cases\": 0.0}, {\"median_daily_sales_price\": 735000, \"cases_cumulative\": 40, \"new_cases\": 11.0}, {\"median_daily_sales_price\": 550000, \"cases_cumulative\": 53, \"new_cases\": 13.0}, {\"median_daily_sales_price\": 762000, \"cases_cumulative\": 69, \"new_cases\": 16.0}, {\"median_daily_sales_price\": 700000, \"cases_cumulative\": 94, \"new_cases\": 25.0}, {\"median_daily_sales_price\": 720000, \"cases_cumulative\": 144, \"new_cases\": 50.0}, {\"median_daily_sales_price\": 694000, \"cases_cumulative\": 190, \"new_cases\": 46.0}, {\"median_daily_sales_price\": 702500, \"cases_cumulative\": 231, \"new_cases\": 41.0}, {\"median_daily_sales_price\": 685000, \"cases_cumulative\": 292, \"new_cases\": 61.0}, {\"median_daily_sales_price\": 700000, \"cases_cumulative\": 351, \"new_cases\": 59.0}, {\"median_daily_sales_price\": 650000, \"cases_cumulative\": 409, \"new_cases\": 58.0}, {\"median_daily_sales_price\": 624000, \"cases_cumulative\": 536, \"new_cases\": 127.0}, {\"median_daily_sales_price\": 665000, \"cases_cumulative\": 662, \"new_cases\": 126.0}, {\"median_daily_sales_price\": 665000, \"cases_cumulative\": 799, \"new_cases\": 137.0}, {\"median_daily_sales_price\": 646000, \"cases_cumulative\": 1216, \"new_cases\": 417.0}, {\"median_daily_sales_price\": 695000, \"cases_cumulative\": 1465, \"new_cases\": 249.0}, {\"median_daily_sales_price\": 540000, \"cases_cumulative\": 1804, \"new_cases\": 339.0}, {\"median_daily_sales_price\": 605000, \"cases_cumulative\": 2136, \"new_cases\": 332.0}, {\"median_daily_sales_price\": 710000, \"cases_cumulative\": 2474, \"new_cases\": 338.0}, {\"median_daily_sales_price\": 704000, \"cases_cumulative\": 3011, \"new_cases\": 537.0}, {\"median_daily_sales_price\": 625000, \"cases_cumulative\": 3518, \"new_cases\": 507.0}, {\"median_daily_sales_price\": 680500, \"cases_cumulative\": 4045, \"new_cases\": 527.0}, {\"median_daily_sales_price\": 685000, \"cases_cumulative\": 4566, \"new_cases\": 521.0}, {\"median_daily_sales_price\": 717500, \"cases_cumulative\": 5277, \"new_cases\": 711.0}, {\"median_daily_sales_price\": 766750, \"cases_cumulative\": 5940, \"new_cases\": 663.0}, {\"median_daily_sales_price\": 671000, \"cases_cumulative\": 6360, \"new_cases\": 420.0}, {\"median_daily_sales_price\": 700000, \"cases_cumulative\": 6910, \"new_cases\": 550.0}, {\"median_daily_sales_price\": 660000, \"cases_cumulative\": 7530, \"new_cases\": 620.0}, {\"median_daily_sales_price\": 620000, \"cases_cumulative\": 7955, \"new_cases\": 425.0}, {\"median_daily_sales_price\": 660000, \"cases_cumulative\": 8430, \"new_cases\": 475.0}, {\"median_daily_sales_price\": 630000, \"cases_cumulative\": 8873, \"new_cases\": 443.0}, {\"median_daily_sales_price\": 655000, \"cases_cumulative\": 9192, \"new_cases\": 319.0}, {\"median_daily_sales_price\": 659000, \"cases_cumulative\": 9420, \"new_cases\": 228.0}, {\"median_daily_sales_price\": 655000, \"cases_cumulative\": 10047, \"new_cases\": 627.0}, {\"median_daily_sales_price\": 605000, \"cases_cumulative\": 10496, \"new_cases\": 449.0}, {\"median_daily_sales_price\": 649000, \"cases_cumulative\": 10854, \"new_cases\": 358.0}, {\"median_daily_sales_price\": 632000, \"cases_cumulative\": 11391, \"new_cases\": 537.0}, {\"median_daily_sales_price\": 592250, \"cases_cumulative\": 12021, \"new_cases\": 630.0}, {\"median_daily_sales_price\": 690000, \"cases_cumulative\": 12341, \"new_cases\": 320.0}, {\"median_daily_sales_price\": 615000, \"cases_cumulative\": 13816, \"new_cases\": 1475.0}, {\"median_daily_sales_price\": 670000, \"cases_cumulative\": 15140, \"new_cases\": 1324.0}, {\"median_daily_sales_price\": 675000, \"cases_cumulative\": 16435, \"new_cases\": 1295.0}, {\"median_daily_sales_price\": 650000, \"cases_cumulative\": 17508, \"new_cases\": 1073.0}, {\"median_daily_sales_price\": 688000, \"cases_cumulative\": 18517, \"new_cases\": 1009.0}, {\"median_daily_sales_price\": 490000, \"cases_cumulative\": 19107, \"new_cases\": 590.0}, {\"median_daily_sales_price\": 657500, \"cases_cumulative\": 19528, \"new_cases\": 421.0}, {\"median_daily_sales_price\": 700000, \"cases_cumulative\": 20417, \"new_cases\": 889.0}, {\"median_daily_sales_price\": 660000, \"cases_cumulative\": 20976, \"new_cases\": 559.0}, {\"median_daily_sales_price\": 695000, \"cases_cumulative\": 22485, \"new_cases\": 1509.0}, {\"median_daily_sales_price\": 700000, \"cases_cumulative\": 23182, \"new_cases\": 697.0}, {\"median_daily_sales_price\": 665000, \"cases_cumulative\": 24215, \"new_cases\": 1033.0}, {\"median_daily_sales_price\": 808000, \"cases_cumulative\": 24894, \"new_cases\": 679.0}, {\"median_daily_sales_price\": 440000, \"cases_cumulative\": 25662, \"new_cases\": 768.0}, {\"median_daily_sales_price\": 710000, \"cases_cumulative\": 26217, \"new_cases\": 555.0}, {\"median_daily_sales_price\": 690000, \"cases_cumulative\": 27815, \"new_cases\": 1598.0}, {\"median_daily_sales_price\": 707500, \"cases_cumulative\": 28644, \"new_cases\": 829.0}, {\"median_daily_sales_price\": 670000, \"cases_cumulative\": 29427, \"new_cases\": 783.0}, {\"median_daily_sales_price\": 740000, \"cases_cumulative\": 30296, \"new_cases\": 869.0}, {\"median_daily_sales_price\": 632500, \"cases_cumulative\": 31197, \"new_cases\": 901.0}, {\"median_daily_sales_price\": 637500, \"cases_cumulative\": 31677, \"new_cases\": 480.0}, {\"median_daily_sales_price\": 690000, \"cases_cumulative\": 32258, \"new_cases\": 581.0}, {\"median_daily_sales_price\": 740000, \"cases_cumulative\": 33180, \"new_cases\": 922.0}, {\"median_daily_sales_price\": 670000, \"cases_cumulative\": 34428, \"new_cases\": 1248.0}, {\"median_daily_sales_price\": 620000, \"cases_cumulative\": 35329, \"new_cases\": 901.0}, {\"median_daily_sales_price\": 706500, \"cases_cumulative\": 36259, \"new_cases\": 930.0}, {\"median_daily_sales_price\": 582000, \"cases_cumulative\": 37303, \"new_cases\": 1044.0}, {\"median_daily_sales_price\": 692250, \"cases_cumulative\": 37974, \"new_cases\": 671.0}, {\"median_daily_sales_price\": 699000, \"cases_cumulative\": 38451, \"new_cases\": 477.0}, {\"median_daily_sales_price\": 707500, \"cases_cumulative\": 39573, \"new_cases\": 1122.0}, {\"median_daily_sales_price\": 730000, \"cases_cumulative\": 40857, \"new_cases\": 1284.0}, {\"median_daily_sales_price\": 650000, \"cases_cumulative\": 42037, \"new_cases\": 1180.0}, {\"median_daily_sales_price\": 650000, \"cases_cumulative\": 43052, \"new_cases\": 1015.0}, {\"median_daily_sales_price\": 757500, \"cases_cumulative\": 44055, \"new_cases\": 1003.0}, {\"median_daily_sales_price\": 626500, \"cases_cumulative\": 44988, \"new_cases\": 933.0}, {\"median_daily_sales_price\": 649000, \"cases_cumulative\": 46018, \"new_cases\": 1030.0}, {\"median_daily_sales_price\": 720500, \"cases_cumulative\": 47822, \"new_cases\": 1804.0}, {\"median_daily_sales_price\": 715000, \"cases_cumulative\": 48700, \"new_cases\": 878.0}, {\"median_daily_sales_price\": 705000, \"cases_cumulative\": 49774, \"new_cases\": 1074.0}, {\"median_daily_sales_price\": 730000, \"cases_cumulative\": 51562, \"new_cases\": 1788.0}, {\"median_daily_sales_price\": 560750, \"cases_cumulative\": 53651, \"new_cases\": 2089.0}, {\"median_daily_sales_price\": 688000, \"cases_cumulative\": 54996, \"new_cases\": 1345.0}, {\"median_daily_sales_price\": 742500, \"cases_cumulative\": 55968, \"new_cases\": 972.0}, {\"median_daily_sales_price\": 687000, \"cases_cumulative\": 57118, \"new_cases\": 1150.0}, {\"median_daily_sales_price\": 777500, \"cases_cumulative\": 58234, \"new_cases\": 1116.0}, {\"median_daily_sales_price\": 729750, \"cases_cumulative\": 59650, \"new_cases\": 1416.0}, {\"median_daily_sales_price\": 790000, \"cases_cumulative\": 61045, \"new_cases\": 1395.0}, {\"median_daily_sales_price\": 743000, \"cases_cumulative\": 62338, \"new_cases\": 1293.0}, {\"median_daily_sales_price\": 735500, \"cases_cumulative\": 63844, \"new_cases\": 1506.0}, {\"median_daily_sales_price\": 740000, \"cases_cumulative\": 64644, \"new_cases\": 800.0}, {\"median_daily_sales_price\": 745000, \"cases_cumulative\": 65822, \"new_cases\": 1178.0}, {\"median_daily_sales_price\": 737500, \"cases_cumulative\": 67064, \"new_cases\": 1242.0}, {\"median_daily_sales_price\": 740000, \"cases_cumulative\": 68875, \"new_cases\": 1811.0}, {\"median_daily_sales_price\": 734500, \"cases_cumulative\": 70476, \"new_cases\": 1601.0}, {\"median_daily_sales_price\": 798750, \"cases_cumulative\": 72023, \"new_cases\": 1547.0}, {\"median_daily_sales_price\": 620000, \"cases_cumulative\": 73018, \"new_cases\": 995.0}, {\"median_daily_sales_price\": 700000, \"cases_cumulative\": 73791, \"new_cases\": 773.0}, {\"median_daily_sales_price\": 725000, \"cases_cumulative\": 75084, \"new_cases\": 1293.0}, {\"median_daily_sales_price\": 695000, \"cases_cumulative\": 77189, \"new_cases\": 2105.0}, {\"median_daily_sales_price\": 745000, \"cases_cumulative\": 78227, \"new_cases\": 1038.0}, {\"median_daily_sales_price\": 736000, \"cases_cumulative\": 79609, \"new_cases\": 1382.0}, {\"median_daily_sales_price\": 1065000, \"cases_cumulative\": 81636, \"new_cases\": 2027.0}, {\"median_daily_sales_price\": 687500, \"cases_cumulative\": 83397, \"new_cases\": 1761.0}, {\"median_daily_sales_price\": 720000, \"cases_cumulative\": 85942, \"new_cases\": 2545.0}, {\"median_daily_sales_price\": 751500, \"cases_cumulative\": 88262, \"new_cases\": 2320.0}, {\"median_daily_sales_price\": 735000, \"cases_cumulative\": 89490, \"new_cases\": 1228.0}, {\"median_daily_sales_price\": 765000, \"cases_cumulative\": 91467, \"new_cases\": 1977.0}, {\"median_daily_sales_price\": 746000, \"cases_cumulative\": 93232, \"new_cases\": 1765.0}, {\"median_daily_sales_price\": 835500, \"cases_cumulative\": 95371, \"new_cases\": 2139.0}, {\"median_daily_sales_price\": 813000, \"cases_cumulative\": 97894, \"new_cases\": 2523.0}, {\"median_daily_sales_price\": 735000, \"cases_cumulative\": 100772, \"new_cases\": 2878.0}, {\"median_daily_sales_price\": 780000, \"cases_cumulative\": 103529, \"new_cases\": 2757.0}, {\"median_daily_sales_price\": 750000, \"cases_cumulative\": 105507, \"new_cases\": 1978.0}, {\"median_daily_sales_price\": 792500, \"cases_cumulative\": 107667, \"new_cases\": 2160.0}, {\"median_daily_sales_price\": 725000, \"cases_cumulative\": 107667, \"new_cases\": 0.0}, {\"median_daily_sales_price\": 833000, \"cases_cumulative\": 107667, \"new_cases\": 0.0}, {\"median_daily_sales_price\": 1150500, \"cases_cumulative\": 107667, \"new_cases\": 0.0}, {\"median_daily_sales_price\": 802500, \"cases_cumulative\": 116570, \"new_cases\": 8903.0}, {\"median_daily_sales_price\": 770750, \"cases_cumulative\": 120539, \"new_cases\": 3969.0}, {\"median_daily_sales_price\": 775000, \"cases_cumulative\": 123004, \"new_cases\": 2465.0}, {\"median_daily_sales_price\": 805000, \"cases_cumulative\": 124738, \"new_cases\": 1734.0}, {\"median_daily_sales_price\": 802500, \"cases_cumulative\": 127358, \"new_cases\": 2620.0}, {\"median_daily_sales_price\": 825000, \"cases_cumulative\": 130242, \"new_cases\": 2884.0}, {\"median_daily_sales_price\": 777500, \"cases_cumulative\": 133549, \"new_cases\": 3307.0}, {\"median_daily_sales_price\": 736000, \"cases_cumulative\": 136129, \"new_cases\": 2580.0}, {\"median_daily_sales_price\": 737500, \"cases_cumulative\": 140307, \"new_cases\": 4178.0}, {\"median_daily_sales_price\": 769500, \"cases_cumulative\": 143009, \"new_cases\": 2702.0}, {\"median_daily_sales_price\": 785000, \"cases_cumulative\": 147468, \"new_cases\": 4459.0}, {\"median_daily_sales_price\": 719250, \"cases_cumulative\": 150319, \"new_cases\": 2851.0}, {\"median_daily_sales_price\": 682500, \"cases_cumulative\": 153041, \"new_cases\": 2722.0}, {\"median_daily_sales_price\": 740000, \"cases_cumulative\": 155887, \"new_cases\": 2846.0}, {\"median_daily_sales_price\": 750000, \"cases_cumulative\": 159045, \"new_cases\": 3158.0}, {\"median_daily_sales_price\": 729500, \"cases_cumulative\": 161673, \"new_cases\": 2628.0}, {\"median_daily_sales_price\": 775000, \"cases_cumulative\": 164870, \"new_cases\": 3197.0}, {\"median_daily_sales_price\": 785000, \"cases_cumulative\": 166848, \"new_cases\": 1978.0}, {\"median_daily_sales_price\": 750500, \"cases_cumulative\": 168757, \"new_cases\": 1909.0}, {\"median_daily_sales_price\": 681000, \"cases_cumulative\": 172325, \"new_cases\": 3568.0}, {\"median_daily_sales_price\": 557500, \"cases_cumulative\": 173995, \"new_cases\": 1670.0}, {\"median_daily_sales_price\": 850000, \"cases_cumulative\": 176028, \"new_cases\": 2033.0}, {\"median_daily_sales_price\": 787500, \"cases_cumulative\": 178642, \"new_cases\": 2614.0}, {\"median_daily_sales_price\": 760000, \"cases_cumulative\": 183383, \"new_cases\": 4741.0}, {\"median_daily_sales_price\": 750000, \"cases_cumulative\": 185872, \"new_cases\": 2489.0}, {\"median_daily_sales_price\": 806000, \"cases_cumulative\": 188481, \"new_cases\": 2609.0}, {\"median_daily_sales_price\": 649000, \"cases_cumulative\": 190693, \"new_cases\": 2212.0}, {\"median_daily_sales_price\": 686000, \"cases_cumulative\": 192167, \"new_cases\": 1474.0}, {\"median_daily_sales_price\": 860000, \"cases_cumulative\": 193788, \"new_cases\": 1621.0}, {\"median_daily_sales_price\": 737500, \"cases_cumulative\": 195614, \"new_cases\": 1826.0}, {\"median_daily_sales_price\": 850000, \"cases_cumulative\": 197912, \"new_cases\": 2298.0}, {\"median_daily_sales_price\": 800000, \"cases_cumulative\": 201106, \"new_cases\": 3194.0}, {\"median_daily_sales_price\": 777500, \"cases_cumulative\": 204167, \"new_cases\": 3061.0}, {\"median_daily_sales_price\": 740000, \"cases_cumulative\": 206761, \"new_cases\": 2594.0}, {\"median_daily_sales_price\": 650000, \"cases_cumulative\": 208528, \"new_cases\": 1767.0}, {\"median_daily_sales_price\": 700000, \"cases_cumulative\": 208528, \"new_cases\": 0.0}, {\"median_daily_sales_price\": 805000, \"cases_cumulative\": 211808, \"new_cases\": 3280.0}, {\"median_daily_sales_price\": 770000, \"cases_cumulative\": 214197, \"new_cases\": 2389.0}, {\"median_daily_sales_price\": 815000, \"cases_cumulative\": 216139, \"new_cases\": 1942.0}, {\"median_daily_sales_price\": 769000, \"cases_cumulative\": 218693, \"new_cases\": 2554.0}, {\"median_daily_sales_price\": 645000, \"cases_cumulative\": 220762, \"new_cases\": 2069.0}, {\"median_daily_sales_price\": 882000, \"cases_cumulative\": 221950, \"new_cases\": 1188.0}, {\"median_daily_sales_price\": 775000, \"cases_cumulative\": 223131, \"new_cases\": 1181.0}, {\"median_daily_sales_price\": 763750, \"cases_cumulative\": 224031, \"new_cases\": 900.0}, {\"median_daily_sales_price\": 790000, \"cases_cumulative\": 225827, \"new_cases\": 1796.0}, {\"median_daily_sales_price\": 766000, \"cases_cumulative\": 227346, \"new_cases\": 1519.0}, {\"median_daily_sales_price\": 840000, \"cases_cumulative\": 229054, \"new_cases\": 1708.0}, {\"median_daily_sales_price\": 753000, \"cases_cumulative\": 230662, \"new_cases\": 1608.0}, {\"median_daily_sales_price\": 860000, \"cases_cumulative\": 231695, \"new_cases\": 1033.0}, {\"median_daily_sales_price\": 780000, \"cases_cumulative\": 232893, \"new_cases\": 1198.0}, {\"median_daily_sales_price\": 788000, \"cases_cumulative\": 233777, \"new_cases\": 884.0}, {\"median_daily_sales_price\": 780000, \"cases_cumulative\": 235386, \"new_cases\": 1609.0}, {\"median_daily_sales_price\": 742000, \"cases_cumulative\": 236986, \"new_cases\": 1600.0}, {\"median_daily_sales_price\": 775000, \"cases_cumulative\": 238458, \"new_cases\": 1472.0}, {\"median_daily_sales_price\": 730000, \"cases_cumulative\": 239756, \"new_cases\": 1298.0}, {\"median_daily_sales_price\": 1090000, \"cases_cumulative\": 240749, \"new_cases\": 993.0}, {\"median_daily_sales_price\": 764500, \"cases_cumulative\": 241768, \"new_cases\": 1019.0}, {\"median_daily_sales_price\": 775000, \"cases_cumulative\": 242521, \"new_cases\": 753.0}, {\"median_daily_sales_price\": 827500, \"cases_cumulative\": 243935, \"new_cases\": 1414.0}, {\"median_daily_sales_price\": 803500, \"cases_cumulative\": 244999, \"new_cases\": 1064.0}, {\"median_daily_sales_price\": 835000, \"cases_cumulative\": 246407, \"new_cases\": 1408.0}, {\"median_daily_sales_price\": 647000, \"cases_cumulative\": 247542, \"new_cases\": 1135.0}, {\"median_daily_sales_price\": 1070250, \"cases_cumulative\": 248334, \"new_cases\": 792.0}, {\"median_daily_sales_price\": 730000, \"cases_cumulative\": 248821, \"new_cases\": 487.0}, {\"median_daily_sales_price\": 781000, \"cases_cumulative\": 249241, \"new_cases\": 420.0}, {\"median_daily_sales_price\": 815000, \"cases_cumulative\": 249859, \"new_cases\": 618.0}, {\"median_daily_sales_price\": 802500, \"cases_cumulative\": 249859, \"new_cases\": 0.0}, {\"median_daily_sales_price\": 823000, \"cases_cumulative\": 252066, \"new_cases\": 2207.0}, {\"median_daily_sales_price\": 833000, \"cases_cumulative\": 253176, \"new_cases\": 1110.0}, {\"median_daily_sales_price\": 769500, \"cases_cumulative\": 253985, \"new_cases\": 809.0}, {\"median_daily_sales_price\": 782500, \"cases_cumulative\": 254656, \"new_cases\": 671.0}, {\"median_daily_sales_price\": 825000, \"cases_cumulative\": 255049, \"new_cases\": 393.0}, {\"median_daily_sales_price\": 830000, \"cases_cumulative\": 256148, \"new_cases\": 1099.0}, {\"median_daily_sales_price\": 782500, \"cases_cumulative\": 257271, \"new_cases\": 1123.0}, {\"median_daily_sales_price\": 805000, \"cases_cumulative\": 258516, \"new_cases\": 1245.0}, {\"median_daily_sales_price\": 820000, \"cases_cumulative\": 259817, \"new_cases\": 1301.0}, {\"median_daily_sales_price\": 940000, \"cases_cumulative\": 260797, \"new_cases\": 980.0}, {\"median_daily_sales_price\": 828000, \"cases_cumulative\": 261446, \"new_cases\": 649.0}, {\"median_daily_sales_price\": 815000, \"cases_cumulative\": 262133, \"new_cases\": 687.0}, {\"median_daily_sales_price\": 813500, \"cases_cumulative\": 263333, \"new_cases\": 1200.0}, {\"median_daily_sales_price\": 769500, \"cases_cumulative\": 264414, \"new_cases\": 1081.0}, {\"median_daily_sales_price\": 765000, \"cases_cumulative\": 265775, \"new_cases\": 1361.0}, {\"median_daily_sales_price\": 796000, \"cases_cumulative\": 265775, \"new_cases\": 0.0}, {\"median_daily_sales_price\": 695000, \"cases_cumulative\": 267801, \"new_cases\": 2026.0}, {\"median_daily_sales_price\": 755000, \"cases_cumulative\": 268455, \"new_cases\": 654.0}, {\"median_daily_sales_price\": 865000, \"cases_cumulative\": 269284, \"new_cases\": 829.0}, {\"median_daily_sales_price\": 770000, \"cases_cumulative\": 270299, \"new_cases\": 1015.0}, {\"median_daily_sales_price\": 765000, \"cases_cumulative\": 271371, \"new_cases\": 1072.0}, {\"median_daily_sales_price\": 837000, \"cases_cumulative\": 272653, \"new_cases\": 1282.0}, {\"median_daily_sales_price\": 682500, \"cases_cumulative\": 273638, \"new_cases\": 985.0}, {\"median_daily_sales_price\": 685000, \"cases_cumulative\": 274565, \"new_cases\": 927.0}, {\"median_daily_sales_price\": 800000, \"cases_cumulative\": 274942, \"new_cases\": 377.0}, {\"median_daily_sales_price\": 803500, \"cases_cumulative\": 275856, \"new_cases\": 914.0}, {\"median_daily_sales_price\": 797500, \"cases_cumulative\": 277445, \"new_cases\": 1589.0}, {\"median_daily_sales_price\": 777500, \"cases_cumulative\": 278665, \"new_cases\": 1220.0}, {\"median_daily_sales_price\": 810000, \"cases_cumulative\": 279909, \"new_cases\": 1244.0}, {\"median_daily_sales_price\": 775000, \"cases_cumulative\": 281165, \"new_cases\": 1256.0}, {\"median_daily_sales_price\": 712500, \"cases_cumulative\": 282135, \"new_cases\": 970.0}, {\"median_daily_sales_price\": 745000, \"cases_cumulative\": 282982, \"new_cases\": 847.0}, {\"median_daily_sales_price\": 787500, \"cases_cumulative\": 283750, \"new_cases\": 768.0}, {\"median_daily_sales_price\": 730000, \"cases_cumulative\": 285016, \"new_cases\": 1266.0}, {\"median_daily_sales_price\": 773750, \"cases_cumulative\": 286183, \"new_cases\": 1167.0}, {\"median_daily_sales_price\": 790250, \"cases_cumulative\": 287222, \"new_cases\": 1039.0}, {\"median_daily_sales_price\": 820000, \"cases_cumulative\": 288136, \"new_cases\": 914.0}, {\"median_daily_sales_price\": 745000, \"cases_cumulative\": 288451, \"new_cases\": 315.0}, {\"median_daily_sales_price\": 804000, \"cases_cumulative\": 289366, \"new_cases\": 915.0}, {\"median_daily_sales_price\": 842500, \"cases_cumulative\": 289366, \"new_cases\": 0.0}, {\"median_daily_sales_price\": 780000, \"cases_cumulative\": 290486, \"new_cases\": 1120.0}, {\"median_daily_sales_price\": 800000, \"cases_cumulative\": 294065, \"new_cases\": 3579.0}, {\"median_daily_sales_price\": 750000, \"cases_cumulative\": 296821, \"new_cases\": 2756.0}, {\"median_daily_sales_price\": 780500, \"cases_cumulative\": 298937, \"new_cases\": 2116.0}, {\"median_daily_sales_price\": 682500, \"cases_cumulative\": 299760, \"new_cases\": 823.0}, {\"median_daily_sales_price\": 737500, \"cases_cumulative\": 300614, \"new_cases\": 854.0}, {\"median_daily_sales_price\": 825000, \"cases_cumulative\": 302077, \"new_cases\": 1463.0}, {\"median_daily_sales_price\": 810000, \"cases_cumulative\": 303369, \"new_cases\": 1292.0}, {\"median_daily_sales_price\": 765000, \"cases_cumulative\": 305070, \"new_cases\": 1701.0}, {\"median_daily_sales_price\": 743000, \"cases_cumulative\": 306327, \"new_cases\": 1257.0}, {\"median_daily_sales_price\": 850000, \"cases_cumulative\": 307618, \"new_cases\": 1291.0}, {\"median_daily_sales_price\": 687500, \"cases_cumulative\": 309190, \"new_cases\": 1572.0}, {\"median_daily_sales_price\": 785000, \"cases_cumulative\": 310595, \"new_cases\": 1405.0}, {\"median_daily_sales_price\": 815000, \"cases_cumulative\": 311745, \"new_cases\": 1150.0}, {\"median_daily_sales_price\": 755000, \"cases_cumulative\": 313526, \"new_cases\": 1781.0}, {\"median_daily_sales_price\": 760000, \"cases_cumulative\": 315564, \"new_cases\": 2038.0}, {\"median_daily_sales_price\": 812000, \"cases_cumulative\": 317656, \"new_cases\": 2092.0}, {\"median_daily_sales_price\": 590000, \"cases_cumulative\": 319977, \"new_cases\": 2321.0}, {\"median_daily_sales_price\": 732500, \"cases_cumulative\": 322207, \"new_cases\": 2230.0}, {\"median_daily_sales_price\": 825000, \"cases_cumulative\": 323625, \"new_cases\": 1418.0}, {\"median_daily_sales_price\": 730000, \"cases_cumulative\": 325876, \"new_cases\": 2251.0}, {\"median_daily_sales_price\": 725000, \"cases_cumulative\": 327964, \"new_cases\": 2088.0}, {\"median_daily_sales_price\": 830000, \"cases_cumulative\": 330450, \"new_cases\": 2486.0}, {\"median_daily_sales_price\": 800000, \"cases_cumulative\": 332865, \"new_cases\": 2415.0}, {\"median_daily_sales_price\": 700000, \"cases_cumulative\": 336549, \"new_cases\": 3684.0}, {\"median_daily_sales_price\": 774000, \"cases_cumulative\": 339560, \"new_cases\": 3011.0}, {\"median_daily_sales_price\": 767000, \"cases_cumulative\": 342343, \"new_cases\": 2783.0}, {\"median_daily_sales_price\": 755000, \"cases_cumulative\": 344523, \"new_cases\": 2180.0}, {\"median_daily_sales_price\": 765000, \"cases_cumulative\": 348336, \"new_cases\": 3813.0}, {\"median_daily_sales_price\": 815500, \"cases_cumulative\": 353232, \"new_cases\": 4896.0}, {\"median_daily_sales_price\": 806000, \"cases_cumulative\": 353232, \"new_cases\": 0.0}, {\"median_daily_sales_price\": 810000, \"cases_cumulative\": 361869, \"new_cases\": 8637.0}, {\"median_daily_sales_price\": 628000, \"cases_cumulative\": 364520, \"new_cases\": 2651.0}, {\"median_daily_sales_price\": 810000, \"cases_cumulative\": 370636, \"new_cases\": 6116.0}, {\"median_daily_sales_price\": 765000, \"cases_cumulative\": 374134, \"new_cases\": 3498.0}, {\"median_daily_sales_price\": 757500, \"cases_cumulative\": 378323, \"new_cases\": 4189.0}, {\"median_daily_sales_price\": 570000, \"cases_cumulative\": 383275, \"new_cases\": 4952.0}, {\"median_daily_sales_price\": 725000, \"cases_cumulative\": 387793, \"new_cases\": 4518.0}, {\"median_daily_sales_price\": 1089500, \"cases_cumulative\": 390891, \"new_cases\": 3098.0}, {\"median_daily_sales_price\": 860000, \"cases_cumulative\": 395843, \"new_cases\": 4952.0}, {\"median_daily_sales_price\": 747500, \"cases_cumulative\": 400919, \"new_cases\": 5076.0}, {\"median_daily_sales_price\": 802500, \"cases_cumulative\": 408396, \"new_cases\": 7477.0}, {\"median_daily_sales_price\": 791500, \"cases_cumulative\": 414185, \"new_cases\": 5789.0}, {\"median_daily_sales_price\": 795000, \"cases_cumulative\": 421881, \"new_cases\": 7696.0}, {\"median_daily_sales_price\": 830000, \"cases_cumulative\": 430583, \"new_cases\": 8702.0}, {\"median_daily_sales_price\": 645000, \"cases_cumulative\": 439408, \"new_cases\": 8825.0}, {\"median_daily_sales_price\": 837500, \"cases_cumulative\": 449851, \"new_cases\": 10443.0}, {\"median_daily_sales_price\": 850000, \"cases_cumulative\": 457880, \"new_cases\": 8029.0}, {\"median_daily_sales_price\": 805500, \"cases_cumulative\": 466321, \"new_cases\": 8441.0}, {\"median_daily_sales_price\": 780000, \"cases_cumulative\": 475271, \"new_cases\": 8950.0}, {\"median_daily_sales_price\": 775000, \"cases_cumulative\": 487917, \"new_cases\": 12646.0}, {\"median_daily_sales_price\": 760000, \"cases_cumulative\": 501635, \"new_cases\": 13718.0}, {\"median_daily_sales_price\": 645000, \"cases_cumulative\": 512872, \"new_cases\": 11237.0}, {\"median_daily_sales_price\": 880500, \"cases_cumulative\": 525486, \"new_cases\": 12614.0}, {\"median_daily_sales_price\": 815000, \"cases_cumulative\": 532730, \"new_cases\": 7244.0}, {\"median_daily_sales_price\": 905000, \"cases_cumulative\": 543769, \"new_cases\": 11039.0}, {\"median_daily_sales_price\": 750000, \"cases_cumulative\": 566005, \"new_cases\": 22236.0}, {\"median_daily_sales_price\": 815000, \"cases_cumulative\": 580325, \"new_cases\": 14320.0}, {\"median_daily_sales_price\": 821000, \"cases_cumulative\": 596721, \"new_cases\": 16396.0}, {\"median_daily_sales_price\": 790000, \"cases_cumulative\": 610372, \"new_cases\": 13651.0}, {\"median_daily_sales_price\": 650000, \"cases_cumulative\": 623670, \"new_cases\": 13298.0}, {\"median_daily_sales_price\": 777000, \"cases_cumulative\": 634849, \"new_cases\": 11179.0}, {\"median_daily_sales_price\": 818000, \"cases_cumulative\": 647542, \"new_cases\": 12693.0}, {\"median_daily_sales_price\": 785000, \"cases_cumulative\": 663954, \"new_cases\": 16412.0}, {\"median_daily_sales_price\": 847500, \"cases_cumulative\": 677299, \"new_cases\": 13345.0}, {\"median_daily_sales_price\": 647500, \"cases_cumulative\": 665600, \"new_cases\": 760.0}, {\"median_daily_sales_price\": 710500, \"cases_cumulative\": 694149, \"new_cases\": 28549.0}, {\"median_daily_sales_price\": 831500, \"cases_cumulative\": 707260, \"new_cases\": 13111.0}, {\"median_daily_sales_price\": 800000, \"cases_cumulative\": 720699, \"new_cases\": 13439.0}, {\"median_daily_sales_price\": 803000, \"cases_cumulative\": 731907, \"new_cases\": 11208.0}, {\"median_daily_sales_price\": 780000, \"cases_cumulative\": 741627, \"new_cases\": 9720.0}, {\"median_daily_sales_price\": 723000, \"cases_cumulative\": 755844, \"new_cases\": 14217.0}, {\"median_daily_sales_price\": 830000, \"cases_cumulative\": 775578, \"new_cases\": 19734.0}, {\"median_daily_sales_price\": 701000, \"cases_cumulative\": 791892, \"new_cases\": 16314.0}, {\"median_daily_sales_price\": 795500, \"cases_cumulative\": 803532, \"new_cases\": 11640.0}, {\"median_daily_sales_price\": 800000, \"cases_cumulative\": 813022, \"new_cases\": 9490.0}, {\"median_daily_sales_price\": 750000, \"cases_cumulative\": 823783, \"new_cases\": 10761.0}, {\"median_daily_sales_price\": 753000, \"cases_cumulative\": 835052, \"new_cases\": 11269.0}, {\"median_daily_sales_price\": 783000, \"cases_cumulative\": 853187, \"new_cases\": 18135.0}, {\"median_daily_sales_price\": 818750, \"cases_cumulative\": 871188, \"new_cases\": 18001.0}, {\"median_daily_sales_price\": 705000, \"cases_cumulative\": 887949, \"new_cases\": 16761.0}, {\"median_daily_sales_price\": 800000, \"cases_cumulative\": 901783, \"new_cases\": 13834.0}, {\"median_daily_sales_price\": 820000, \"cases_cumulative\": 914434, \"new_cases\": 12651.0}, {\"median_daily_sales_price\": 778750, \"cases_cumulative\": 926295, \"new_cases\": 11861.0}, {\"median_daily_sales_price\": 791000, \"cases_cumulative\": 937985, \"new_cases\": 11690.0}, {\"median_daily_sales_price\": 775000, \"cases_cumulative\": 954652, \"new_cases\": 16667.0}, {\"median_daily_sales_price\": 737500, \"cases_cumulative\": 968979, \"new_cases\": 14327.0}, {\"median_daily_sales_price\": 1850000, \"cases_cumulative\": 982684, \"new_cases\": 13705.0}, {\"median_daily_sales_price\": 582500, \"cases_cumulative\": 993028, \"new_cases\": 10344.0}, {\"median_daily_sales_price\": 770000, \"cases_cumulative\": 1002614, \"new_cases\": 9586.0}, {\"median_daily_sales_price\": 800000, \"cases_cumulative\": 1010375, \"new_cases\": 7761.0}, {\"median_daily_sales_price\": 810000, \"cases_cumulative\": 1015608, \"new_cases\": 5233.0}, {\"median_daily_sales_price\": 830000, \"cases_cumulative\": 1023055, \"new_cases\": 7447.0}, {\"median_daily_sales_price\": 700500, \"cases_cumulative\": 1031177, \"new_cases\": 8122.0}, {\"median_daily_sales_price\": 916500, \"cases_cumulative\": 1040961, \"new_cases\": 9784.0}, {\"median_daily_sales_price\": 805000, \"cases_cumulative\": 1048757, \"new_cases\": 7796.0}, {\"median_daily_sales_price\": 817500, \"cases_cumulative\": 1055181, \"new_cases\": 6424.0}, {\"median_daily_sales_price\": 825000, \"cases_cumulative\": 1060492, \"new_cases\": 5311.0}, {\"median_daily_sales_price\": 787500, \"cases_cumulative\": 1066569, \"new_cases\": 6077.0}, {\"median_daily_sales_price\": 855000, \"cases_cumulative\": 1072412, \"new_cases\": 5843.0}, {\"median_daily_sales_price\": 1182250, \"cases_cumulative\": 1078329, \"new_cases\": 5917.0}, {\"median_daily_sales_price\": 715000, \"cases_cumulative\": 1084763, \"new_cases\": 6434.0}, {\"median_daily_sales_price\": 885000, \"cases_cumulative\": 1090304, \"new_cases\": 5541.0}, {\"median_daily_sales_price\": 830000, \"cases_cumulative\": 1094341, \"new_cases\": 4037.0}, {\"median_daily_sales_price\": 840000, \"cases_cumulative\": 1097573, \"new_cases\": 3232.0}, {\"median_daily_sales_price\": 815250, \"cases_cumulative\": 1101890, \"new_cases\": 4317.0}, {\"median_daily_sales_price\": 840000, \"cases_cumulative\": 1106323, \"new_cases\": 4433.0}, {\"median_daily_sales_price\": 720000, \"cases_cumulative\": 1110384, \"new_cases\": 4061.0}, {\"median_daily_sales_price\": 767500, \"cases_cumulative\": 1114718, \"new_cases\": 4334.0}, {\"median_daily_sales_price\": 800000, \"cases_cumulative\": 1117551, \"new_cases\": 2833.0}, {\"median_daily_sales_price\": 800000, \"cases_cumulative\": 1120179, \"new_cases\": 2628.0}, {\"median_daily_sales_price\": 900000, \"cases_cumulative\": 1122745, \"new_cases\": 2566.0}, {\"median_daily_sales_price\": 863000, \"cases_cumulative\": 1125437, \"new_cases\": 2692.0}, {\"median_daily_sales_price\": 880000, \"cases_cumulative\": 1128437, \"new_cases\": 3000.0}, {\"median_daily_sales_price\": 1415000, \"cases_cumulative\": 1131185, \"new_cases\": 2748.0}, {\"median_daily_sales_price\": 3000000, \"cases_cumulative\": 1133752, \"new_cases\": 2567.0}, {\"median_daily_sales_price\": 1205000, \"cases_cumulative\": 1135450, \"new_cases\": 1698.0}, {\"median_daily_sales_price\": 850000, \"cases_cumulative\": 1137164, \"new_cases\": 1714.0}, {\"median_daily_sales_price\": 864000, \"cases_cumulative\": 1138262, \"new_cases\": 1098.0}, {\"median_daily_sales_price\": 850000, \"cases_cumulative\": 1139786, \"new_cases\": 1524.0}, {\"median_daily_sales_price\": 961000, \"cases_cumulative\": 1141930, \"new_cases\": 2144.0}, {\"median_daily_sales_price\": 785000, \"cases_cumulative\": 1143828, \"new_cases\": 1898.0}, {\"median_daily_sales_price\": 1272500, \"cases_cumulative\": 1145594, \"new_cases\": 1766.0}, {\"median_daily_sales_price\": 927500, \"cases_cumulative\": 1146756, \"new_cases\": 1162.0}, {\"median_daily_sales_price\": 792500, \"cases_cumulative\": 1147541, \"new_cases\": 785.0}, {\"median_daily_sales_price\": 798750, \"cases_cumulative\": 1148965, \"new_cases\": 1424.0}, {\"median_daily_sales_price\": 1001500, \"cases_cumulative\": 1150322, \"new_cases\": 1357.0}, {\"median_daily_sales_price\": 1060000, \"cases_cumulative\": 1151846, \"new_cases\": 1524.0}, {\"median_daily_sales_price\": 737000, \"cases_cumulative\": 1153131, \"new_cases\": 1285.0}, {\"median_daily_sales_price\": 2150000, \"cases_cumulative\": 1154275, \"new_cases\": 1144.0}, {\"median_daily_sales_price\": 910000, \"cases_cumulative\": 1167713, \"new_cases\": 13438.0}, {\"median_daily_sales_price\": 902500, \"cases_cumulative\": 1168353, \"new_cases\": 640.0}, {\"median_daily_sales_price\": 935500, \"cases_cumulative\": 1168979, \"new_cases\": 626.0}, {\"median_daily_sales_price\": 820000, \"cases_cumulative\": 1169607, \"new_cases\": 628.0}, {\"median_daily_sales_price\": 1012500, \"cases_cumulative\": 1170199, \"new_cases\": 592.0}, {\"median_daily_sales_price\": 620000, \"cases_cumulative\": 1171776, \"new_cases\": 1577.0}, {\"median_daily_sales_price\": 860000, \"cases_cumulative\": 1172390, \"new_cases\": 614.0}, {\"median_daily_sales_price\": 715000, \"cases_cumulative\": 1173003, \"new_cases\": 613.0}, {\"median_daily_sales_price\": 550000, \"cases_cumulative\": 1173541, \"new_cases\": 538.0}]}}, {\"mode\": \"vega-lite\"});\n",
       "</script>"
      ],
      "text/plain": [
       "alt.LayerChart(...)"
      ]
     },
     "execution_count": 40,
     "metadata": {},
     "output_type": "execute_result"
    }
   ],
   "source": [
    "scatter = alt.Chart(df).mark_point().encode(\n",
    "    y = alt.Y('median_daily_sales_price:Q', axis = alt.Axis(titleFontSize = 20)),\n",
    "    x = alt.X('new_cases:Q', scale = alt.Scale(domain = (0,30000)),axis = alt.Axis(titleFontSize = 20))\n",
    ")\n",
    "scatter + scatter.transform_regression('new_cases', 'median_daily_sales_price').mark_line().properties(width=600, height = 300)"
   ]
  },
  {
   "cell_type": "markdown",
   "metadata": {},
   "source": [
    "<font size=\"3\"> We see a small slope indicating that as number of new cases rise, the average sales price of SFR in LosAngeles County was found to rise too, albeit by a small percentage. Lets run a significance test to see whether the slope is statistically significant. "
   ]
  },
  {
   "cell_type": "code",
   "execution_count": 11,
   "metadata": {},
   "outputs": [
    {
     "name": "stdout",
     "output_type": "stream",
     "text": [
      "                               OLS Regression Results                               \n",
      "====================================================================================\n",
      "Dep. Variable:     median_daily_sales_price   R-squared:                       0.016\n",
      "Model:                                  OLS   Adj. R-squared:                  0.014\n",
      "Method:                       Least Squares   F-statistic:                     6.881\n",
      "Date:                      Thu, 20 May 2021   Prob (F-statistic):            0.00904\n",
      "Time:                              21:15:12   Log-Likelihood:                -5572.0\n",
      "No. Observations:                       413   AIC:                         1.115e+04\n",
      "Df Residuals:                           411   BIC:                         1.116e+04\n",
      "Df Model:                                 1                                         \n",
      "Covariance Type:                  nonrobust                                         \n",
      "==============================================================================\n",
      "                 coef    std err          t      P>|t|      [0.025      0.975]\n",
      "------------------------------------------------------------------------------\n",
      "Intercept   7.524e+05   1.04e+04     72.484      0.000    7.32e+05    7.73e+05\n",
      "new_cases      5.3204      2.028      2.623      0.009       1.333       9.307\n",
      "==============================================================================\n",
      "Omnibus:                      578.461   Durbin-Watson:                   1.444\n",
      "Prob(Omnibus):                  0.000   Jarque-Bera (JB):           100481.360\n",
      "Skew:                           7.026   Prob(JB):                         0.00\n",
      "Kurtosis:                      78.111   Cond. No.                     6.15e+03\n",
      "==============================================================================\n",
      "\n",
      "Notes:\n",
      "[1] Standard Errors assume that the covariance matrix of the errors is correctly specified.\n",
      "[2] The condition number is large, 6.15e+03. This might indicate that there are\n",
      "strong multicollinearity or other numerical problems.\n"
     ]
    }
   ],
   "source": [
    "coeffs=smf.ols('median_daily_sales_price ~ new_cases', data = df).fit()\n",
    "print(coeffs.summary())"
   ]
  },
  {
   "cell_type": "markdown",
   "metadata": {},
   "source": [
    "<font size=\"3\">Here coefficient for new_cases indicates that for 1 unit change in new_cases (i.e. for 1 more person getting newly infected), the home price increases by 5.2 units i.e. $5.2. p-value is 1.2%. Also, the 95% Confidence interval for slope is 1.2 to 9.3. 0 does not fall in this range so we can say that our slope is although small, is statistically significant. Correlations can be useful but can mislead too. Anything can be correlation with anything. We dig deeper doing a causal analysis as per below"
   ]
  },
  {
   "cell_type": "code",
   "execution_count": 12,
   "metadata": {},
   "outputs": [],
   "source": [
    "# Dask Bag filtering. Retains only those transactions in pre-treatment period for SingleFamilyResidences \n",
    "bag_losangeles_pre = bag_losangeles.filter(filters_preprocessing).filter(filter_dates_pre)  \n",
    "bag_sanfrancisco_pre = bag_sanfrancisco.filter(filters_preprocessing).filter(filter_dates_pre)  \n",
    "\n",
    "# Dask Bag filtering. Retains only those transactions in pre-treatment period for SingleFamilyResidences \n",
    "bag_losangeles_post = bag_losangeles.filter(filters_preprocessing).filter(filter_dates_post) \n",
    "bag_sanfrancisco_post = bag_sanfrancisco.filter(filters_preprocessing).filter(filter_dates_post) \n",
    "\n",
    "# Put above 4 Dask bags into a python list\n",
    "bags = [bag_losangeles_pre, bag_sanfrancisco_pre, bag_losangeles_post, bag_sanfrancisco_post]\n",
    "\n",
    "# Apply Dask Mapper function \n",
    "def median_generator(bag):\n",
    "    bag = bag.map(extractor)   # Dask mapper used to extract sales price column\n",
    "    L = list(bag)\n",
    "    median = statistics.median(L)\n",
    "    return median\n",
    "\n",
    "median_la_pre, median_sf_pre,median_la_post,median_sf_post = [median_generator(bag) for bag in bags]    "
   ]
  },
  {
   "cell_type": "code",
   "execution_count": null,
   "metadata": {},
   "outputs": [],
   "source": []
  },
  {
   "cell_type": "markdown",
   "metadata": {},
   "source": [
    "<font size=\"3\"> How was Covid spreading in Los Angeles over time? Were there any hidden patterns to be gleaned?\n",
    ">Based on number of cases on a day, can we have predicted what's the number of cases going to look like in 1 week or 2 weeks or 2 months? Is there any kind of pattern or periodicity or waves in the number of covid cases in Los Angeles? Like they saw a big peak in 4th quarter but before that are there like small peaks come and go over time. If they know to expect a peak comes every week or 10 days or every 3-4 months, they could structure safety policies accordingly. This can help for short term and long term healthcare capacity planning in Los Angeles"
   ]
  },
  {
   "cell_type": "code",
   "execution_count": 13,
   "metadata": {
    "scrolled": true
   },
   "outputs": [
    {
     "data": {
      "text/plain": [
       "Text(0.5, 1.0, 'Time Series of Covid Cases in Los Angeles county')"
      ]
     },
     "execution_count": 13,
     "metadata": {},
     "output_type": "execute_result"
    },
    {
     "data": {
      "image/png": "[encoded data removed]",
      "text/plain": [
       "<Figure size 1080x360 with 1 Axes>"
      ]
     },
     "metadata": {
      "needs_background": "light"
     },
     "output_type": "display_data"
    }
   ],
   "source": [
    "plt.figure(figsize=(15,5))\n",
    "plt.plot(range(df['new_cases'].size), df['new_cases'], linewidth = 3)\n",
    "plt.title('Time Series of Covid Cases in Los Angeles county', size = 24)"
   ]
  },
  {
   "cell_type": "code",
   "execution_count": 14,
   "metadata": {},
   "outputs": [
    {
     "data": {
      "text/plain": [
       "Text(0.5, 1.0, 'Autocorrelation Plot of Number of Covid Cases in Los Angeles county')"
      ]
     },
     "execution_count": 14,
     "metadata": {},
     "output_type": "execute_result"
    },
    {
     "data": {
      "image/png": "[encoded data removed]",
      "text/plain": [
       "<Figure size 1080x576 with 1 Axes>"
      ]
     },
     "metadata": {
      "needs_background": "light"
     },
     "output_type": "display_data"
    }
   ],
   "source": [
    "x = df['new_cases'] - df['new_cases'].mean() \n",
    "fig= plt.gcf()\n",
    "fig.set_size_inches(15, 8)\n",
    "plt.gca().acorr(x,usevlines=True, maxlags = 400, normed = True, lw = 3)\n",
    "plt.gca().grid(True)\n",
    "plt.gca().set_xlim(0,180)\n",
    "plt.xlabel('Lags', size = 14, fontweight = 'bold')\n",
    "plt.ylabel ('Autocorrelation Coefficient', size = 14, fontweight = 'bold')\n",
    "plt.title('Autocorrelation Plot of Number of Covid Cases in Los Angeles county', size = 24)"
   ]
  },
  {
   "cell_type": "markdown",
   "metadata": {},
   "source": [
    "<font size =\"3\"> Interpretation\n",
    "> ACF of time series of Covid cases is Correlation of series with itself over shifted time periods. We shift time series by 1 lag, where each lag is 1 day and then we convolve it with original (unshifted) time series. Convolving simply means that we find the overlapping area in terms of percentage (%)\n",
    "\n",
    "> For first 8 lags (each lag being 1 day), correlations remains high, above 0.8. This means that Covid cases reported for a given day are very similar in number to those that will be reported in subsequent 8 days! Knowing this insight could help LA county in policy and capacity planning. Interestingly, correlation remains weakly existent upto 30 days indicating a weak monthly pattern. But after about 60 days, the number of new cases is completely unrelated to those that were reported 2 months ago. Also, it is quite interesting to note that after 90 days, the cases are quite dissimilar. \n",
    "    \n",
    "> This suggests there is no bi-monthly or quarterly pattern in time series, however there is evidence of a strong 10-day periodicity pattern. **\"Number of cases\" reported today could be used to make meaningful forecasts (of how bad it may get in LA) upto 8 days in advance.** After 8 days, it loses its predictive power and may lead to bad forecasting. This just goes to show how unpredictable it is to forecast as this virus was completely new to the world and LA and this makes it difficult for governments to plan anything for longer term. "
   ]
  },
  {
   "cell_type": "code",
   "execution_count": 15,
   "metadata": {},
   "outputs": [],
   "source": [
    "# ACF of time series of Covid cases is Correlation of series with itself over shifted time periods. \n",
    "# Shift series by 1 lag, where each lag is 1 day and then we convolve it with original series i.e find \n",
    "# overlapping area. how much overlap we have in terms of %....\n",
    "\n",
    "# Interpretation\n",
    "# For first 10 lags (each lag being 1 day), correlations remains high, above 0.8. This means that Covid cases \n",
    "# reported for a given day are very similar in number to those in subsequent 10 days. Knowing this could help \n",
    "# county in policy and capacity planning. Interestingly, correlation remains moderately strong upto 30 days \n",
    "# indicating a monthly trend but after about 60 days the number of cases is completely \n",
    "# unrelated to those that were reported 2 months ago. Also, it is quite interesting\n",
    "# to note that after 90 days, the cases are quite dissimilar. Cases reported today could be used to make meaningful\n",
    "# forecasts upto 10 days, but lose predictive power thereafter. This just goes to show how \n",
    "# unpredictable it is to forecast as this virus was completely new to the world and LA and this makes it difficult \n",
    "# for governments to plan anything for long term. "
   ]
  },
  {
   "cell_type": "markdown",
   "metadata": {},
   "source": [
    "<font size = \"3\"> Any time varying signal can be decomposd into a sum of periodic signals and white noise. We decompose the time series into its frequency components to see, is there any periodicity? If so, what is the contribution of various frequencies in the overall signal? So frequency could be every 1 day, every 2 days, every 10 days, etc."
   ]
  },
  {
   "cell_type": "code",
   "execution_count": 16,
   "metadata": {},
   "outputs": [
    {
     "data": {
      "image/png": "[encoded data removed]",
      "text/plain": [
       "<Figure size 1080x360 with 1 Axes>"
      ]
     },
     "metadata": {
      "needs_background": "light"
     },
     "output_type": "display_data"
    }
   ],
   "source": [
    "n = len(df['new_cases'])\n",
    "freqs = fftfreq(n)   # creates all necessary frequencies\n",
    "wave_number = freqs * n   # this is frequency of a wave in days. periodicity is very short.\n",
    "mask = freqs > 0 # mask array to be used for power spectra. ignoring 1/2 of values as they are complex conjug of each other\n",
    "\n",
    "fft_vals = fft(df['new_cases'])  # negative frequencies is a mathematical construct. makes no actual sense. do discard them\n",
    "fft_theo = 2.0 * np.abs(fft_vals/n)  # 1/2 strength is on -ve side 1/2 on positive freq side so double it\n",
    "power_spectrum = 2.0 * (np.abs(fft_vals/n)**2.0)\n",
    "power_spectrum_variance = (power_spectrum / power_spectrum.var())*100\n",
    "f = plt.figure(figsize=(15,5))\n",
    "ax1 = f.add_subplot(111)\n",
    "ax1.plot(wave_number[mask], power_spectrum[mask], label = \"Power by Wave Number\", color = 'red', linewidth = 4)\n",
    "ax1.set_xlabel('Frequency in number of days', size = 14)\n",
    "ax1.set_ylabel('Signal Power/Intensity', size = 14)\n",
    "ax1.set_title('Frequency decomposition / Power Spectral Analysis of Time Series Data', size = 12, fontweight = 'bold')\n",
    "ax1.set_xticks(np.arange(0, len(x)/2, 3))\n",
    "ax1.set_xlim([0, 90])\n",
    "plt.show()\n",
    "f.subplots_adjust(hspace=15)"
   ]
  },
  {
   "cell_type": "markdown",
   "metadata": {},
   "source": [
    "<font size = '3'> Above spectral analysis indicates that most of the frequencies in our time series are less than 6 days. Beyond 6 days, the contribution of higher frequency components is the low and flat indicating randomness/white noise. This aligns with our time series ACF plot insights.Afterall, spectral analysis is an orthogonal way of looking at patterns/periodicity in time series data! \n"
   ]
  },
  {
   "cell_type": "markdown",
   "metadata": {},
   "source": [
    "\n",
    "\n",
    "<font size=\"5\"> Find Causal effect of Coronavirus on home prices in Los Angeles County"
   ]
  },
  {
   "cell_type": "markdown",
   "metadata": {},
   "source": [
    "<font size=\"3\"> Intuition:\n",
    "    \n",
    "> We hypothesize home prices to fall due to Covid. We think Covid may have led to weakened demand for houses, \n",
    "due to some people losing jobs hence moving to rental units, some people falling sick hence pausing their plans of buying new house (or upgrading to a bigger house), changes in attitudes towards perceived risk of real estate investing among other factors.  "
   ]
  },
  {
   "cell_type": "markdown",
   "metadata": {},
   "source": [
    "<font size=\"3\"> What is diff-in-diff (DiD) method?\n",
    "    \n",
    "> DiD method is a common statistical technique used to draw causal inferences from observational data. It calculates the causal effect of a treatment (Examples: sudden change like a new tax introduction or a Govt policy change or Covid hitting world, etc) on an outcome variable (e.g. median home price of single family homes) by comparing the average change over time in the outcome variable for the treatment group, compared to the average change over time for the control group.\n",
    "\n",
    "> With the unexpected advent of Covid-19 in our county, it is reasonable to ask how it affected home prices. This is difficult to find out because in order to truly know how those home prices in our county were causally impacted, we need to consider how those home prices would be had the county never experienced Covid-19 (the counterfactual). However, the Covid-19 did hit the county and we never get to observe how those home prices would have fared without Covid-19. \n",
    "    \n",
    "> DiD uses the outcome of the control group as a proxy / counterfactual for what would have occurred in the treatment group had there been no treatment. The difference in the average post-treatment outcomes between the treatment and control groups is a measure of the causal effect.\n",
    "\n",
    "Datasets:\n",
    "> The datasets we use to explore this question can be found here https://api.developer.attomdata.com/docs and https://usafacts.org/visualizations/coronavirus-covid-19-spread-map/state/california\n",
    "    "
   ]
  },
  {
   "cell_type": "code",
   "execution_count": 17,
   "metadata": {},
   "outputs": [],
   "source": [
    "# (*) Identify 2 counties (treatment and control) preferably in same state \n",
    "#     where Covid cases reached a threshold at 2 DIFFERENT points of time \n",
    "#     (Assumption: 10K cases, when ppl startes losing jobs and not when\n",
    "#     1st case was reported...companies realized this virus is here to stay)\n",
    "\n",
    "# (*) Los Angeles county hit 10,000 cases on 04/14/2020\n",
    "#     San Francisco county hit 10,000 cases on 09/08/2020\n",
    "#     If we define Treatment as a county hitting 10,000 cases, it means from 04/14/2020 to 09/08/2020, \n",
    "#     LA was in treatment period, but SF was not. \n",
    "#     Therefore, we pick LA as treatment group, SF as control group for DiD. \n",
    "#     To simplfy analyses, we pick a 1 month period from 04/14/2020 to 05/14/20 as post-treatment period, AND\n",
    "#     04/14/2019 to 05/14/2019 as pre-treatment period. This allows us to make a YOY comparision at same points of\n",
    "#     time \n",
    "\n",
    "# DEFINITIONS:\n",
    "#  Outcome variable: Median Home Price of Single Family Residence (SFR) in US dollars. \n",
    "\n",
    "\n",
    "# Parallel Trends assumption(Untestable in practice) for DiD: We assume that if Covid had not hit, the time trend in Los Angeles would \n",
    "# match the time trend of San Francisco. This seems reasonable to us considering both are top counties in SAME state \n",
    "# and have many similarities. There is nothing unique to LA or SF county that changed over time. Anything that \n",
    "# confounder changes over time affects treatment (LA) and control (SF) group in the same way. i.e. there are no time-varying \n",
    "# LA or SF specific confounders i.e. anything that changes over time that might affect median home prices cannot systematically\n",
    "# differ between LA and SF (treatment and control)\n",
    "\n",
    "# In other words, we There are no systematic differences in the changes of unobserved confounders.\n",
    "\n",
    "# Calculate simple Difference-in-Difference of Median Home Price of Single Family Homes as the causal effect of\n",
    "# Covid on Home Prices in Los Angeles county"
   ]
  },
  {
   "cell_type": "code",
   "execution_count": 18,
   "metadata": {
    "scrolled": true
   },
   "outputs": [],
   "source": [
    "# Dask Bag filtering. Retains only those transactions in pre-treatment period for SingleFamilyResidences \n",
    "bag_losangeles_pre = bag_losangeles.filter(filters_preprocessing).filter(filter_dates_pre)  \n",
    "bag_sanfrancisco_pre = bag_sanfrancisco.filter(filters_preprocessing).filter(filter_dates_pre)  \n",
    "\n",
    "# Dask Bag filtering. Retains only those transactions in pre-treatment period for SingleFamilyResidences \n",
    "bag_losangeles_post = bag_losangeles.filter(filters_preprocessing).filter(filter_dates_post) \n",
    "bag_sanfrancisco_post = bag_sanfrancisco.filter(filters_preprocessing).filter(filter_dates_post) \n",
    "\n",
    "# Put above 4 Dask bags into a python list\n",
    "bags = [bag_losangeles_pre, bag_sanfrancisco_pre, bag_losangeles_post, bag_sanfrancisco_post]\n",
    "\n",
    "# Apply Dask Mapper function \n",
    "def median_generator(bag):\n",
    "    bag = bag.map(extractor)   # Dask mapper used to extract sales price column\n",
    "    L = list(bag)\n",
    "    median = statistics.median(L)\n",
    "    return median\n",
    "\n",
    "median_la_pre, median_sf_pre,median_la_post,median_sf_post = [median_generator(bag) for bag in bags]    "
   ]
  },
  {
   "cell_type": "code",
   "execution_count": 19,
   "metadata": {
    "scrolled": true
   },
   "outputs": [
    {
     "name": "stdout",
     "output_type": "stream",
     "text": [
      "Median home price of SingleFamilyHome in Los Angeles in pre-treatment period = 667250.0\n",
      "Median home price of SingleFamilyHome in SanFrancisco in pre-treatment period = 1632500.0\n",
      "Median home price of SingleFamilyHome in Los Angeles in post-treatment period = 665000.0\n",
      "Median home price of SingleFamilyHome in SanFrancisco in post-treatment period = 1500000\n"
     ]
    }
   ],
   "source": [
    "print('Median home price of SingleFamilyHome in Los Angeles in pre-treatment period = {}'.format(median_la_pre))\n",
    "print('Median home price of SingleFamilyHome in SanFrancisco in pre-treatment period = {}'.format(median_sf_pre))\n",
    "\n",
    "print('Median home price of SingleFamilyHome in Los Angeles in post-treatment period = {}'.format(median_la_post))\n",
    "print('Median home price of SingleFamilyHome in SanFrancisco in post-treatment period = {}'.format(median_sf_post))"
   ]
  },
  {
   "cell_type": "code",
   "execution_count": 20,
   "metadata": {
    "scrolled": false
   },
   "outputs": [
    {
     "name": "stdout",
     "output_type": "stream",
     "text": [
      "The causal effect of Coronavirus on SFR home prices in Los Angeles = 7.779180965506637 %)\n"
     ]
    }
   ],
   "source": [
    "causaleffect_percentage = ((median_la_post-median_la_pre)/median_la_pre) - ((median_sf_post - median_sf_pre)/median_sf_pre)\n",
    "print (\"The causal effect of Coronavirus on SFR home prices in Los Angeles = {} %)\".format(causaleffect_percentage * 100))"
   ]
  },
  {
   "cell_type": "markdown",
   "metadata": {},
   "source": [
    "<font size=\"4\"> Finding: *Covid-19 actually caused single family home prices in Los Angeles County to increase!*"
   ]
  },
  {
   "cell_type": "markdown",
   "metadata": {},
   "source": [
    "<font size=\"3\"> We would be interested in extending this causal analysis to more complex versions of DiD (like \"*DiD Regression with Fixed Effects*\" method) \"to include multiple periods (instead of single month) and multiple counties (instead of just 1 treatment county and 1 control county). \n",
    "    \n",
    "<font size=\"3\">The <u>\"*DiD regression with Fixed Effects*\" </u>method would allow us to report standard error/robustness of causal inference. We could also combine *DiD* method with <u>*Nearest Neighbor Matching*</u> method. This would involve 'matching' known 'treatment' units with simulated counterfactual 'control' units: characteristically equivalent units which did not receive treatment. \n",
    "    \n",
    "<font size=\"3\">*However, it is our intent to restrict the scope of causal inference to \"basic\" Exploratory Data Analysis as per Milestone # 1 guidelines.*"
   ]
  },
  {
   "cell_type": "code",
   "execution_count": 21,
   "metadata": {},
   "outputs": [],
   "source": [
    "# We would be interested in extending this causal analysis to more complex versions of DiD (like \"*DiD Regression \n",
    "# with Fixed Effects*\" method) \"to include multiple periods (instead of single month) and multiple counties \n",
    "# (instead of just 1 treatment county and 1 control county). \n",
    "    \n",
    "# The \"*DiD regression with Fixed Effects*\" method would allow us to report standard error/robustness of causal \n",
    "# inference. We could also combine *DiD* method with <u>*Nearest Neighbor Matching*</u> method. This would involve\n",
    "# 'matching' known 'treatment' units with simulated counterfactual 'control' units: characteristically equivalent \n",
    "# units which did not receive treatment. \n",
    "    \n",
    "# However, it is our intent to restrict the scope of causal inference to \"basic\" Exploratory Data Analysis as \n",
    "# per Milestone # 1 guidelines."
   ]
  },
  {
   "cell_type": "code",
   "execution_count": null,
   "metadata": {},
   "outputs": [],
   "source": []
  }
 ],
 "metadata": {
  "kernelspec": {
   "display_name": "Python 3",
   "language": "python",
   "name": "python3"
  },
  "language_info": {
   "codemirror_mode": {
    "name": "ipython",
    "version": 3
   },
   "file_extension": ".py",
   "mimetype": "text/x-python",
   "name": "python",
   "nbconvert_exporter": "python",
   "pygments_lexer": "ipython3",
   "version": "3.8.5"
  }
 },
 "nbformat": 4,
 "nbformat_minor": 4
}
