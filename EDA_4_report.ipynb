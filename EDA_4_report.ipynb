{
 "metadata": {
  "language_info": {
   "codemirror_mode": {
    "name": "ipython",
    "version": 3
   },
   "file_extension": ".py",
   "mimetype": "text/x-python",
   "name": "python",
   "nbconvert_exporter": "python",
   "pygments_lexer": "ipython3",
   "version": "3.9.1"
  },
  "orig_nbformat": 2,
  "kernelspec": {
   "name": "python391jvsc74a57bd09948915d2ef816288c201d1ce3341a9895370030647a6a1d50d3811e8c6b9c6b",
   "display_name": "Python 3.9.1 64-bit ('my_conda': conda)"
  }
 },
 "nbformat": 4,
 "nbformat_minor": 2,
 "cells": [
  {
   "cell_type": "code",
   "execution_count": 2,
   "metadata": {},
   "outputs": [],
   "source": [
    "# Wrangling\n",
    "import pandas as pd\n",
    "import numpy as np\n",
    "\n",
    "# Reading\n",
    "import json\n",
    "import pickle\n",
    "\n",
    "# Navigating\n",
    "import os"
   ]
  },
  {
   "source": [
    "# Import Data"
   ],
   "cell_type": "markdown",
   "metadata": {}
  },
  {
   "source": [
    "## Real Estate Transactions"
   ],
   "cell_type": "markdown",
   "metadata": {}
  },
  {
   "cell_type": "code",
   "execution_count": 3,
   "metadata": {},
   "outputs": [
    {
     "output_type": "stream",
     "name": "stdout",
     "text": [
      "/Users/Chris/Documents/GitHub/SIADS691-Covid-Real-Estate\n"
     ]
    }
   ],
   "source": [
    "# folder navigation\n",
    "print(os.path.abspath(os.curdir))"
   ]
  },
  {
   "cell_type": "code",
   "execution_count": 4,
   "metadata": {},
   "outputs": [],
   "source": [
    "# Import \n",
    "with open('datasets/CA_data/counties_pull.txt') as project_file:    \n",
    "    data = json.load(project_file)  \n",
    "\n",
    "ca_geo_df = pd.json_normalize(data)"
   ]
  },
  {
   "cell_type": "code",
   "execution_count": 5,
   "metadata": {},
   "outputs": [
    {
     "output_type": "execute_result",
     "data": {
      "text/plain": [
       "   geo_center_latitude geo_center_longitude  geo_key       id           name  \\\n",
       "28       34.1963980000      -118.2618620000  CO06037  CO06037    Los Angeles   \n",
       "51       37.7272390000      -123.0322290000  CO06075  CO06075  San Francisco   \n",
       "\n",
       "   type  \n",
       "28   CO  \n",
       "51   CO  "
      ],
      "text/html": "<div>\n<style scoped>\n    .dataframe tbody tr th:only-of-type {\n        vertical-align: middle;\n    }\n\n    .dataframe tbody tr th {\n        vertical-align: top;\n    }\n\n    .dataframe thead th {\n        text-align: right;\n    }\n</style>\n<table border=\"1\" class=\"dataframe\">\n  <thead>\n    <tr style=\"text-align: right;\">\n      <th></th>\n      <th>geo_center_latitude</th>\n      <th>geo_center_longitude</th>\n      <th>geo_key</th>\n      <th>id</th>\n      <th>name</th>\n      <th>type</th>\n    </tr>\n  </thead>\n  <tbody>\n    <tr>\n      <th>28</th>\n      <td>34.1963980000</td>\n      <td>-118.2618620000</td>\n      <td>CO06037</td>\n      <td>CO06037</td>\n      <td>Los Angeles</td>\n      <td>CO</td>\n    </tr>\n    <tr>\n      <th>51</th>\n      <td>37.7272390000</td>\n      <td>-123.0322290000</td>\n      <td>CO06075</td>\n      <td>CO06075</td>\n      <td>San Francisco</td>\n      <td>CO</td>\n    </tr>\n  </tbody>\n</table>\n</div>"
     },
     "metadata": {},
     "execution_count": 5
    }
   ],
   "source": [
    "# CO06037 = LA ; CO06075 = SF\n",
    "ca_geo_df[ca_geo_df.name.isin(['Los Angeles','San Francisco'])]"
   ]
  },
  {
   "cell_type": "code",
   "execution_count": 36,
   "metadata": {},
   "outputs": [
    {
     "output_type": "stream",
     "name": "stdout",
     "text": [
      "Building Los Angeles\n",
      "Building San Francisco\n",
      "Building San Diego\n",
      "Building San Bernardino\n",
      "Building Sacramento\n",
      "Building Riverside\n",
      "Building Orange\n",
      "Dictionary Created!\n"
     ]
    }
   ],
   "source": [
    "# Build Dataframes from json files\n",
    "\n",
    "# Initialize dataframe holder\n",
    "ca_df_dict = {}\n",
    "\n",
    "# Loop to build list of files for concatination\n",
    "folders = ['Los Angeles','San Francisco','San Diego','San Bernardino','Sacramento','Riverside','Orange']\n",
    "for folder in folders:\n",
    "    print(f'Building {folder}')\n",
    "    # Get directories \n",
    "    files = os.listdir(\"datasets/CA_data/\"+folder)\n",
    "\n",
    "    # Get json files in directory\n",
    "    for county_f in files:\n",
    "        with open(f'datasets/CA_data/'+folder + '/' + county_f) as project_file:\n",
    "            try:\n",
    "                data = json.load(project_file)\n",
    "                df = pd.json_normalize(data) \n",
    "\n",
    "                # Concat dataframes\n",
    "                if folder in ca_df_dict:\n",
    "                    df2 = ca_df_dict[folder]\n",
    "                    h_concat_df = pd.concat([df2, df], axis=0)\n",
    "                    ca_df_dict[folder] = h_concat_df\n",
    "                else:\n",
    "                    ca_df_dict[folder] = df\n",
    "            except:\n",
    "                print(f'Failed: {project_file}')\n",
    "\n",
    "print('Dictionary Created!')"
   ]
  },
  {
   "cell_type": "code",
   "execution_count": 37,
   "metadata": {},
   "outputs": [],
   "source": [
    "# Create dictionary for renaming\n",
    "col_dict = {'sale.saleTransDate':'transaction_date','address.postal1':'zipcode','sale.amount.saleamt':'sale_price','lot.lotSize1':'lot_size','building.size.universalsize':'size','location.latitude':'latitude','location.longitude':'longitude','summary.propsubtype':'sub_type','summary.proptype':'type','summary.yearbuilt':'year_built','building.rooms.bathstotal':'bathrooms','building.rooms.beds':'bedrooms'}\n",
    "# Create list for anti filter drop\n",
    "col_drop_list = [ col for col in ca_df_dict['Orange'].columns if col not in col_dict.keys()]"
   ]
  },
  {
   "cell_type": "code",
   "execution_count": 42,
   "metadata": {},
   "outputs": [],
   "source": [
    "# Clean the DataFrames\n",
    "for data in ca_df_dict.keys():\n",
    "    ca_df_dict[data].rename(columns = col_dict, inplace=True)\n",
    "    ca_df_dict[data].drop(col_drop_list, inplace=True, axis=1, errors='ignore')\n",
    "    ca_df_dict[data].reset_index(drop=True, inplace=True)\n",
    "    ca_df_dict[data].dropna(subset=['transaction_date'], inplace=True) #"
   ]
  },
  {
   "cell_type": "code",
   "execution_count": 43,
   "metadata": {},
   "outputs": [
    {
     "output_type": "stream",
     "name": "stdout",
     "text": [
      "done\n"
     ]
    }
   ],
   "source": [
    "# export cleaned dictionary of dataframe\n",
    "with open(\"ca_df_dict.pkl\",\"wb\") as ca_dump:\n",
    "    pickle.dump(ca_df_dict,ca_dump)\n",
    "    print('done')"
   ]
  },
  {
   "cell_type": "code",
   "execution_count": 10,
   "metadata": {},
   "outputs": [
    {
     "output_type": "stream",
     "name": "stdout",
     "text": [
      "Total length is 491856\n"
     ]
    }
   ],
   "source": [
    "total_size = 0\n",
    "for bc in ca_df_dict.keys():\n",
    "    total_size += ca_df_dict[bc].shape[0]\n",
    "print(f'Total length is {total_size}')"
   ]
  },
  {
   "cell_type": "code",
   "execution_count": 34,
   "metadata": {},
   "outputs": [
    {
     "output_type": "stream",
     "name": "stdout",
     "text": [
      "done\n"
     ]
    }
   ],
   "source": [
    "# Read pickle back in\n",
    "#ca_pickled = pd.read_pickle(\"datasets/CA_data/ca_df_dict.pkl\")\n",
    "#print('done')"
   ]
  },
  {
   "source": [
    "## Income "
   ],
   "cell_type": "markdown",
   "metadata": {}
  },
  {
   "cell_type": "code",
   "execution_count": 11,
   "metadata": {},
   "outputs": [
    {
     "output_type": "execute_result",
     "data": {
      "text/plain": [
       "    State ABV                 County Median Household Income\n",
       "210        CA     Los Angeles County                   72721\n",
       "221        CA          Orange County                   95761\n",
       "224        CA       Riverside County                   72905\n",
       "225        CA      Sacramento County                   71891\n",
       "227        CA  San Bernardino County                   67398\n",
       "228        CA       San Diego County                   83576\n",
       "229        CA   San Francisco County                  121795"
      ],
      "text/html": "<div>\n<style scoped>\n    .dataframe tbody tr th:only-of-type {\n        vertical-align: middle;\n    }\n\n    .dataframe tbody tr th {\n        vertical-align: top;\n    }\n\n    .dataframe thead th {\n        text-align: right;\n    }\n</style>\n<table border=\"1\" class=\"dataframe\">\n  <thead>\n    <tr style=\"text-align: right;\">\n      <th></th>\n      <th>State ABV</th>\n      <th>County</th>\n      <th>Median Household Income</th>\n    </tr>\n  </thead>\n  <tbody>\n    <tr>\n      <th>210</th>\n      <td>CA</td>\n      <td>Los Angeles County</td>\n      <td>72721</td>\n    </tr>\n    <tr>\n      <th>221</th>\n      <td>CA</td>\n      <td>Orange County</td>\n      <td>95761</td>\n    </tr>\n    <tr>\n      <th>224</th>\n      <td>CA</td>\n      <td>Riverside County</td>\n      <td>72905</td>\n    </tr>\n    <tr>\n      <th>225</th>\n      <td>CA</td>\n      <td>Sacramento County</td>\n      <td>71891</td>\n    </tr>\n    <tr>\n      <th>227</th>\n      <td>CA</td>\n      <td>San Bernardino County</td>\n      <td>67398</td>\n    </tr>\n    <tr>\n      <th>228</th>\n      <td>CA</td>\n      <td>San Diego County</td>\n      <td>83576</td>\n    </tr>\n    <tr>\n      <th>229</th>\n      <td>CA</td>\n      <td>San Francisco County</td>\n      <td>121795</td>\n    </tr>\n  </tbody>\n</table>\n</div>"
     },
     "metadata": {},
     "execution_count": 11
    }
   ],
   "source": [
    "# Federal income data reported 2019\n",
    "income_data = pd.read_excel(\"datasets/income/est19-all_income.xls\", header=3)[['Postal Code', 'Name','Median Household Income']]\n",
    "\n",
    "# Select relevant income data\n",
    "income_data_CA_NY = income_data[(income_data['Postal Code'].isin(['CA'])) & income_data['Name'].str.contains('County')]\n",
    "\n",
    "# Select relevant columns\n",
    "median_income_df = income_data_CA_NY[['Postal Code', 'Name','Median Household Income']]\n",
    "median_income_df.rename(columns={'Name':'County','Postal Code':'State ABV'}, inplace=True)\n",
    "\n",
    "# Isolate each county's Area Median Income (AMI).\n",
    "ca_median_income_df = median_income_df[median_income_df.County.isin(['San Francisco County','Los Angeles County','San Diego County','San Bernardino County','Sacramento County','Riverside County','Orange County'])]\n",
    "\n",
    "ca_median_income_df"
   ]
  },
  {
   "source": [
    "## Population"
   ],
   "cell_type": "markdown",
   "metadata": {}
  },
  {
   "cell_type": "code",
   "execution_count": 12,
   "metadata": {},
   "outputs": [
    {
     "output_type": "execute_result",
     "data": {
      "text/plain": [
       "                City Name  Pop 2021  GrowthRate  Pop Density       State\n",
       "0      Los Angeles County   9969510      1.4889   13488.8513  California\n",
       "1        San Diego County   3347270      7.8648    4528.8913  California\n",
       "2           Orange County   3175130      5.3052    4295.9841  California\n",
       "3        Riverside County   2520060     14.4660    3409.6675  California\n",
       "4   San Bernardino County   2206750      8.1290    2985.7558  California\n",
       "7       Sacramento County   1578680     11.0667    2135.9706  California\n",
       "11   San Francisco County    883255      9.6523    1195.0533  California"
      ],
      "text/html": "<div>\n<style scoped>\n    .dataframe tbody tr th:only-of-type {\n        vertical-align: middle;\n    }\n\n    .dataframe tbody tr th {\n        vertical-align: top;\n    }\n\n    .dataframe thead th {\n        text-align: right;\n    }\n</style>\n<table border=\"1\" class=\"dataframe\">\n  <thead>\n    <tr style=\"text-align: right;\">\n      <th></th>\n      <th>City Name</th>\n      <th>Pop 2021</th>\n      <th>GrowthRate</th>\n      <th>Pop Density</th>\n      <th>State</th>\n    </tr>\n  </thead>\n  <tbody>\n    <tr>\n      <th>0</th>\n      <td>Los Angeles County</td>\n      <td>9969510</td>\n      <td>1.4889</td>\n      <td>13488.8513</td>\n      <td>California</td>\n    </tr>\n    <tr>\n      <th>1</th>\n      <td>San Diego County</td>\n      <td>3347270</td>\n      <td>7.8648</td>\n      <td>4528.8913</td>\n      <td>California</td>\n    </tr>\n    <tr>\n      <th>2</th>\n      <td>Orange County</td>\n      <td>3175130</td>\n      <td>5.3052</td>\n      <td>4295.9841</td>\n      <td>California</td>\n    </tr>\n    <tr>\n      <th>3</th>\n      <td>Riverside County</td>\n      <td>2520060</td>\n      <td>14.4660</td>\n      <td>3409.6675</td>\n      <td>California</td>\n    </tr>\n    <tr>\n      <th>4</th>\n      <td>San Bernardino County</td>\n      <td>2206750</td>\n      <td>8.1290</td>\n      <td>2985.7558</td>\n      <td>California</td>\n    </tr>\n    <tr>\n      <th>7</th>\n      <td>Sacramento County</td>\n      <td>1578680</td>\n      <td>11.0667</td>\n      <td>2135.9706</td>\n      <td>California</td>\n    </tr>\n    <tr>\n      <th>11</th>\n      <td>San Francisco County</td>\n      <td>883255</td>\n      <td>9.6523</td>\n      <td>1195.0533</td>\n      <td>California</td>\n    </tr>\n  </tbody>\n</table>\n</div>"
     },
     "metadata": {},
     "execution_count": 12
    }
   ],
   "source": [
    "# Need to import population for Covid factorization \n",
    "# (Daily infection / Population) -> DEFAULT TO NYT\n",
    "# (Daily death / Population) -> DEFAULT TO NYT\n",
    "\n",
    "# Density for filtering on the \"urban factor\" & causal county comparison \n",
    "# https://worldpopulationreview.com/us-counties/states/ca\n",
    "# https://worldpopulationreview.com/us-counties/states/ny\n",
    "pop_density = pd.read_csv(\"datasets/population/ca_density_pop_by_county.csv\")\n",
    "pop_density['state'] = 'California'\n",
    "\n",
    "# Rename for Title Caps\n",
    "pop_density.rename(columns={'CTYNAME':'City Name','popDensity':'Pop Density','pop2021': 'Pop 2021','state':'State'}, inplace=True)\n",
    "\n",
    "pop_density[pop_density['City Name'].isin(['San Francisco County','Los Angeles County','San Diego County','San Bernardino County','Sacramento County','Riverside County','Orange County'])]"
   ]
  },
  {
   "source": [
    "## Covid-19"
   ],
   "cell_type": "markdown",
   "metadata": {}
  },
  {
   "cell_type": "code",
   "execution_count": 13,
   "metadata": {},
   "outputs": [],
   "source": [
    "# Read in New York Times data - > SELECTED\n",
    "# This represents a cumulative number\n",
    "# https://github.com/nytimes/covid-19-data/blob/master/us-counties.csv\n",
    "nyt_cum = pd.read_csv(\"datasets/covid/nyt-us-counties.csv\")\n",
    "nyt_cum = nyt_cum[\n",
    "    (nyt_cum.county.isin(\n",
    "        ['San Francisco','Los Angeles','San Diego','San Bernardino','Sacramento','Riverside','Orange'])) & (nyt_cum.state == 'California')].drop(['fips'], axis=1)\n",
    "nyt_cum = nyt_cum.rename(columns={'cases':'cum_cases','deaths':'cum_deaths'})\n",
    "\n",
    "# Next represents daily reports and averages - > SELECTED\n",
    "# https://github.com/nytimes/covid-19-data/tree/master/rolling-averages\n",
    "nyt_avgs = pd.read_csv(\"datasets/covid/nyt-rolling-us-counties.csv\")\n",
    "nyt_avgs = nyt_avgs[nyt_avgs.county.isin(['San Francisco','Los Angeles','San Diego','San Bernardino','Sacramento','Riverside','Orange']) & (nyt_avgs.state == 'California')].drop(['geoid'], axis=1)\n",
    "nyt_avgs = nyt_avgs.rename(columns={'cases':'New Cases','cases_avg':'R7 Cases AVG','deaths':'Days Deaths','cases_avg_per_100k':'R7 Cases AVG Per 100k','deaths_avg':'R7 Deaths AVG','deaths_avg_per_100k':'R7 Deaths AVG Per 100k'})\n",
    "\n",
    "# Merge the dataframes into one\n",
    "covid = pd.merge(nyt_cum, nyt_avgs, on=['date','county','state'], how='outer')\n",
    "covid.rename(columns={'date':'Date', 'county':'County', 'state':'State', 'cum_cases': 'CUM Cases', 'cum_deaths':'CUM Deaths'}, inplace=True)"
   ]
  },
  {
   "cell_type": "code",
   "execution_count": 14,
   "metadata": {},
   "outputs": [
    {
     "output_type": "execute_result",
     "data": {
      "text/plain": [
       "            Date     County       State  CUM Cases  CUM Deaths  New Cases  \\\n",
       "2475  2021-02-02     Orange  California   247886.0      3162.0        851   \n",
       "2675  2021-03-02  San Diego  California   261064.0      3317.0        376   \n",
       "\n",
       "      R7 Cases AVG  R7 Cases AVG Per 100k  Days Deaths  R7 Deaths AVG  \\\n",
       "2475       1244.43                  39.19           53          56.29   \n",
       "2675        456.57                  13.68           14          14.14   \n",
       "\n",
       "      R7 Deaths AVG Per 100k  \n",
       "2475                    1.77  \n",
       "2675                    0.42  "
      ],
      "text/html": "<div>\n<style scoped>\n    .dataframe tbody tr th:only-of-type {\n        vertical-align: middle;\n    }\n\n    .dataframe tbody tr th {\n        vertical-align: top;\n    }\n\n    .dataframe thead th {\n        text-align: right;\n    }\n</style>\n<table border=\"1\" class=\"dataframe\">\n  <thead>\n    <tr style=\"text-align: right;\">\n      <th></th>\n      <th>Date</th>\n      <th>County</th>\n      <th>State</th>\n      <th>CUM Cases</th>\n      <th>CUM Deaths</th>\n      <th>New Cases</th>\n      <th>R7 Cases AVG</th>\n      <th>R7 Cases AVG Per 100k</th>\n      <th>Days Deaths</th>\n      <th>R7 Deaths AVG</th>\n      <th>R7 Deaths AVG Per 100k</th>\n    </tr>\n  </thead>\n  <tbody>\n    <tr>\n      <th>2475</th>\n      <td>2021-02-02</td>\n      <td>Orange</td>\n      <td>California</td>\n      <td>247886.0</td>\n      <td>3162.0</td>\n      <td>851</td>\n      <td>1244.43</td>\n      <td>39.19</td>\n      <td>53</td>\n      <td>56.29</td>\n      <td>1.77</td>\n    </tr>\n    <tr>\n      <th>2675</th>\n      <td>2021-03-02</td>\n      <td>San Diego</td>\n      <td>California</td>\n      <td>261064.0</td>\n      <td>3317.0</td>\n      <td>376</td>\n      <td>456.57</td>\n      <td>13.68</td>\n      <td>14</td>\n      <td>14.14</td>\n      <td>0.42</td>\n    </tr>\n  </tbody>\n</table>\n</div>"
     },
     "metadata": {},
     "execution_count": 14
    }
   ],
   "source": [
    "covid.sample(2)"
   ]
  },
  {
   "cell_type": "code",
   "execution_count": 47,
   "metadata": {},
   "outputs": [
    {
     "output_type": "stream",
     "name": "stdout",
     "text": [
      "done\n"
     ]
    }
   ],
   "source": [
    "# export covid df\n",
    "with open(\"covid.pkl\",\"wb\") as covid_dump:\n",
    "    pickle.dump(covid,covid_dump)\n",
    "    print('done')"
   ]
  },
  {
   "source": [
    "# Functions for Metrics, Statistics, Classification "
   ],
   "cell_type": "markdown",
   "metadata": {}
  },
  {
   "source": [
    "<em>Drilling into true affordability requires fincial data we don't have</em>\n",
    "\n",
    "The first-time homebuyer affordability index is based upon the assumption of 70% median household income, 85% of the median house price, a 10% down payment on a 30-year fixed rate mortgage at prevailing rates plus 0.25% added per month for mortgage insurance. The assumption of 25% of gross income for mortgage repayments also applies.\n",
    "\n",
    "The composite housing affordability index assumes a median household income, median house prices, a 20% down payment on a 30-year fixed rate mortgage at prevailing rates. The assumption is also made that the lender will not allow principal and interest costs to exceed 25% of gross income.\n",
    "\n",
    "<em>Therefore we need to use some generic metric such as the 30% rule.</em>\n",
    "\n",
    "A ratio of housing cost to income is the gold standard, it is known as the 30 percent rule, and it is established because of legal actions.\n",
    "\n",
    "https://www.forbes.com/sites/rogervaldez/2020/02/07/housing-ideas-for-the-feds-find-a-new-measure-of-affordable/?sh=2e9f3c3c36f8\n",
    "\n",
    "https://www.huduser.gov/portal/pdredge/pdr_edge_featd_article_092214.html"
   ],
   "cell_type": "markdown",
   "metadata": {}
  },
  {
   "cell_type": "code",
   "execution_count": 22,
   "metadata": {},
   "outputs": [],
   "source": [
    "# For some reason nesting this inside summary states isn't working\n",
    "def affordability(row, monthly_30):\n",
    "    \"\"\"\n",
    "    Row wise operations for apply function\n",
    "    Return row of values\n",
    "    \"\"\"\n",
    "\n",
    "    # Mortgage variables\n",
    "    # Cite: http://www.freddiemac.com/pmms/docs/30yr_pmmsmnth.xls\n",
    "    freddie_mac_mortgage_rates = {2019:3.94,2020:3.11,2021:2.92}\n",
    "    n = 30 * 12\n",
    "\n",
    "    P = row['sale_price']\n",
    "    r = freddie_mac_mortgage_rates[row['transaction_date'].year]\n",
    "    row['Monthly Mortgage'] = (P * r * ((1 + r)**n)) / (((1 + r)**n) - 1)\n",
    "    row['Affordability'] = 100 * ((monthly_30 - row['Monthly Mortgage']) / monthly_30 )\n",
    "    return row"
   ]
  },
  {
   "cell_type": "code",
   "execution_count": 23,
   "metadata": {},
   "outputs": [],
   "source": [
    "def summary_stats(df, county, ami):\n",
    "    \"\"\"\n",
    "    Requires numpy \n",
    "    Input variable = df (dataframe) , area median income (int), county (string)\n",
    "\n",
    "    Fixed Monthly Mortgage Repayment Calculation = P * r * (1 + r)n / [(1 + r)n – 1]\n",
    "    where P = Outstanding loan amount, r = Effective monthly interest rate, \n",
    "    n = Total number of years * 12 months\n",
    "\n",
    "    Return new unit price columns -> 'price_per_size_unit', 'price_per_bed_unit', 'price_per_lot_size_unit'\n",
    "    Return class based on 'price_per_size_unit'  -> 'tier' [lower, mid , top]\n",
    "    Return affordability -> 'monthly_mortgage' , 'affordability' , 'ami'\n",
    "    \"\"\"\n",
    "\n",
    "    # Unit price columns\n",
    "    df['Price Per Size Unit'] = np.where(df['size'] != 0, \n",
    "        round(df['sale_price'] / df['size'], 2), # True\n",
    "        np.nan # False\n",
    "        )\n",
    "    df['Price Per Bed Unit'] = np.where(df['bedrooms'] != 0, \n",
    "        round(df['sale_price'] / df['bedrooms'], 2), # True\n",
    "        np.nan # False\n",
    "        )\n",
    "    df['Price Per Lot Size Unit'] = np.where(df['lot_size'] != 0, \n",
    "        round(df['sale_price'] / df['lot_size'], 2), # True\n",
    "        np.nan # False\n",
    "        )\n",
    "\n",
    "    # Binning into 3 equal tiers based on price\n",
    "    df['Tier'] = pd.cut(\n",
    "        df[\n",
    "            (df['Price Per Size Unit'].notna()) & \n",
    "            (df['sub_type'].isin(['RESIDENTIAL','HOUSE']))\n",
    "            ]['Price Per Size Unit'], \n",
    "        bins=3, \n",
    "        labels=['Bottom','Middle','Top'], \n",
    "        ordered=True)\n",
    "\n",
    "    # Convert to datetime\n",
    "    df['transaction_date'] = pd.to_datetime(df['transaction_date'])\n",
    "\n",
    "\n",
    "    # Apply the affordability function\n",
    "    # Monthly is needed for the afordability calculation\n",
    "    monthly_30 = ( ami / 12 ) * .3\n",
    "    df = df.apply(lambda x: affordability( row = x, monthly_30 = monthly_30), axis=1)\n",
    "    \n",
    "\n",
    "    return df\n"
   ]
  },
  {
   "cell_type": "code",
   "execution_count": 44,
   "metadata": {},
   "outputs": [],
   "source": [
    "for county_key in sorted(ca_df_dict.keys()):\n",
    "    missing_counties = list()\n",
    "    try:\n",
    "        ca_df_dict[county_key] = summary_stats(\n",
    "                df = ca_df_dict[county_key], \n",
    "                county = county_key, \n",
    "                ami = int(median_income_df[\n",
    "                        median_income_df['County'].str.contains(str(county_key))]['Median Household Income'])\n",
    "        )\n",
    "    except:\n",
    "        missing_counties.append(county_key)\n",
    "        print(f\"County income data mising for {county_key}. Continuing...\")\n",
    "        continue"
   ]
  },
  {
   "cell_type": "code",
   "execution_count": 45,
   "metadata": {},
   "outputs": [
    {
     "output_type": "stream",
     "name": "stdout",
     "text": [
      "done\n"
     ]
    }
   ],
   "source": [
    "# export cleaned dictionary of dataframe\n",
    "with open(\"ca_df_dict_w_stats.pkl\",\"wb\") as ca_dump:\n",
    "    pickle.dump(ca_df_dict,ca_dump)\n",
    "    print('done')"
   ]
  },
  {
   "source": [
    "\"\"\"\n",
    "ca_df_dict['Orange'] = summary_stats(\n",
    "    df= ca_df_dict['Orange'], \n",
    "    county = 'Orange', \n",
    "    ami = int(median_income_df[median_income_df['County'].str.contains('Orange')]['Median Household Income'])\n",
    "    )\n",
    "    \n",
    "ca_df_dict['San Diego'] = summary_stats(\n",
    "    df= ca_df_dict['San Diego'], \n",
    "    county = 'San Diego', \n",
    "    ami = int(median_income_df[median_income_df['County'].str.contains('San Diego')]['Median Household Income'])\n",
    "    )\n",
    "\n",
    "ca_df_dict['San Francisco'] = summary_stats(\n",
    "    df= ca_df_dict['San Francisco'], \n",
    "    county = 'San Francisco', \n",
    "    ami = int(median_income_df[median_income_df['County'].str.contains('San Francisco')]['Median Household Income'])\n",
    "    )\n",
    "\n",
    "ca_df_dict['Los Angeles'] = summary_stats(\n",
    "    df= ca_df_dict['Los Angeles'], \n",
    "    county = 'Los Angeles', \n",
    "    ami = int(median_income_df[median_income_df['County'].str.contains('Los Angeles')]['Median Household Income'])\n",
    "    )\n",
    "\n",
    "ca_df_dict['Scremento'] = summary_stats(\n",
    "    df= ca_df_dict['Scremento'], \n",
    "    county = 'Scremento', \n",
    "    ami = int(median_income_df[median_income_df['County'].str.contains('Scremento')]['Median Household Income'])\n",
    "    )\n",
    "    \n",
    "ca_df_dict['San Bernardino'] = summary_stats(\n",
    "    df= ca_df_dict['San Bernardino'], \n",
    "    county = 'San Bernardino', \n",
    "    ami = int(median_income_df[median_income_df['County'].str.contains('San Bernardino')]['Median Household Income'])\n",
    "    )\n",
    "\n",
    "ca_df_dict['Riverside'] = summary_stats(\n",
    "    df= ca_df_dict['Riverside'], \n",
    "    county = 'Riverside', \n",
    "    ami = int(median_income_df[median_income_df['County'].str.contains('Riverside')]['Median Household Income'])\n",
    "    )\n",
    "\n",
    "ca_df_dict['Riverside'][ca_df_dict['Riverside']['transaction_date'].isna()]\n",
    "ca_df_dict['Los Angeles'][ca_df_dict['Los Angeles']['transaction_date'].isna()]\n",
    "ca_df_dict['San Diego'][ca_df_dict['San Diego']['transaction_date'].isna()]\n",
    "\n",
    "\"\"\""
   ],
   "cell_type": "code",
   "metadata": {},
   "execution_count": null,
   "outputs": []
  },
  {
   "cell_type": "code",
   "execution_count": null,
   "metadata": {},
   "outputs": [],
   "source": []
  }
 ]
}